{
 "cells": [
  {
   "cell_type": "code",
   "execution_count": 1,
   "metadata": {},
   "outputs": [
    {
     "name": "stdout",
     "output_type": "stream",
     "text": [
      "Before forward pass - GPU memory used: 0.004875264 GB\n"
     ]
    }
   ],
   "source": [
    "import torch\n",
    "import torch.nn as nn\n",
    "import torch.optim as optim\n",
    "import torchvision.transforms as transforms\n",
    "import torchvision.datasets as datasets\n",
    "import torch.nn.functional as F\n",
    "\n",
    "device = torch.device('cuda' if torch.cuda.is_available() else 'cpu')\n",
    "\n",
    "torch.cuda.empty_cache()\n",
    "class double_conv2d_bn(nn.Module):\n",
    "    def __init__(self, in_channels, out_channels, kernel_size=3, strides=1, padding=1):\n",
    "        super(double_conv2d_bn, self).__init__()\n",
    "        self.conv1 = nn.Conv2d(in_channels, out_channels, kernel_size=kernel_size, stride=strides, padding=padding, bias=True)\n",
    "        self.conv2 = nn.Conv2d(out_channels, out_channels, kernel_size=kernel_size, stride=strides, padding=padding, bias=True)\n",
    "        self.bn1 = nn.BatchNorm2d(out_channels)\n",
    "        self.bn2 = nn.BatchNorm2d(out_channels)\n",
    "\n",
    "    def forward(self, x):\n",
    "        out = F.relu(self.bn1(self.conv1(x)))\n",
    "        out = F.relu(self.bn2(self.conv2(out)))\n",
    "        return out\n",
    "\n",
    "class deconv2d_bn(nn.Module):\n",
    "    def __init__(self, in_channels, out_channels, kernel_size=2, strides=2):\n",
    "        super(deconv2d_bn, self).__init__()\n",
    "        self.conv1 = nn.ConvTranspose2d(in_channels, out_channels, kernel_size=kernel_size, stride=strides, bias=True)\n",
    "        # Example of adding padding to a convolutional layer\n",
    "\n",
    "        self.bn1 = nn.BatchNorm2d(out_channels)\n",
    "\n",
    "    def forward(self, x):\n",
    "        out = F.relu(self.bn1(self.conv1(x)))\n",
    "        return out\n",
    "\n",
    "class Unet(nn.Module):\n",
    "    def __init__(self, input_channels, output_channels):\n",
    "        super(Unet, self).__init__()\n",
    "        self.layer1_conv = double_conv2d_bn(input_channels, 8)\n",
    "        self.layer2_conv = double_conv2d_bn(8, 16)\n",
    "        self.layer3_conv = double_conv2d_bn(16, 32)\n",
    "        self.layer4_conv = double_conv2d_bn(32, 64)\n",
    "        self.layer5_conv = double_conv2d_bn(64, 128)\n",
    "        self.layer6_conv = double_conv2d_bn(128, 64)\n",
    "        self.layer7_conv = double_conv2d_bn(64, 32)\n",
    "        self.layer8_conv = double_conv2d_bn(32, 16)\n",
    "        self.layer9_conv = double_conv2d_bn(16, 8)\n",
    "        self.layer10_conv = nn.Conv2d(8, output_channels, kernel_size=3, stride=1, padding=1, bias=True)\n",
    "\n",
    "        self.deconv1 = deconv2d_bn(128, 64)\n",
    "        self.deconv2 = deconv2d_bn(64, 32)\n",
    "        self.deconv3 = deconv2d_bn(32, 16)\n",
    "        self.deconv4 = deconv2d_bn(16, 8)\n",
    "\n",
    "        self.sigmoid = nn.Sigmoid()\n",
    "        self.input_channels = input_channels  # Update input channels\n",
    "        self.output_channels = output_channels\n",
    "\n",
    "    def forward(self, x):\n",
    "        conv1 = self.layer1_conv(x)\n",
    "\n",
    "        pool1 = F.max_pool2d(conv1, 2)\n",
    "\n",
    "        conv2 = self.layer2_conv(pool1)\n",
    "        pool2 = F.max_pool2d(conv2, 2)\n",
    "\n",
    "        conv3 = self.layer3_conv(pool2)\n",
    "        pool3 = F.max_pool2d(conv3, 2)\n",
    "\n",
    "        conv4 = self.layer4_conv(pool3)\n",
    "       \n",
    "\n",
    "        pool4 = F.max_pool2d(conv4, 2)\n",
    "\n",
    "        conv5 = self.layer5_conv(pool4)\n",
    "\n",
    "        convt1 = self.deconv1(conv5)\n",
    "        convt1 = F.interpolate(convt1, size=(3, 3), mode='bilinear', align_corners=False)\n",
    "   \n",
    "        concat1 = torch.cat([convt1, conv4], dim=1)\n",
    "        conv6 = self.layer6_conv(concat1)\n",
    "\n",
    "        convt2 = self.deconv2(conv6)\n",
    "        convt2 = F.interpolate(convt2, size=(7, 7), mode='bilinear', align_corners=False)\n",
    "        concat2 = torch.cat([convt2, conv3], dim=1)\n",
    "\n",
    "        conv7 = self.layer7_conv(concat2)\n",
    "\n",
    "        convt3 = self.deconv3(conv7)\n",
    "        concat3 = torch.cat([convt3, conv2], dim=1)\n",
    "        conv8 = self.layer8_conv(concat3)\n",
    "\n",
    "        convt4 = self.deconv4(conv8)\n",
    "        concat4 = torch.cat([convt4, conv1], dim=1)\n",
    "        conv9 = self.layer9_conv(concat4)\n",
    "        outp = self.layer10_conv(conv9)\n",
    "        outp = self.sigmoid(outp)\n",
    "\n",
    "        return outp\n",
    "\n",
    "\n",
    "class NeuralNetwork(nn.Module):\n",
    "    def __init__(self):\n",
    "        super(NeuralNetwork, self).__init__()\n",
    "        self.fc1 = nn.Linear(100, 512)\n",
    "        self.fc2 = nn.Linear(512, 512)\n",
    "        self.fc3 = nn.Linear(512, 784)\n",
    "\n",
    "    def forward(self, x):\n",
    "        x = torch.relu(self.fc1(x))\n",
    "        x = torch.relu(self.fc2(x))\n",
    "        x = torch.relu(self.fc3(x))\n",
    "        return x\n",
    "\n",
    "\n",
    "\n",
    "class CombinedModel(nn.Module):\n",
    "    def __init__(self):\n",
    "        super(CombinedModel, self).__init__()\n",
    "        self.neural_network = NeuralNetwork()\n",
    "        self.unet = Unet(input_channels=1, output_channels=1)\n",
    "\n",
    "    def forward(self, x):\n",
    "        nn_output = self.neural_network(x)\n",
    "        # Ensure nn_output has one channel\n",
    "        nn_output = nn_output.unsqueeze(1)\n",
    "        # Reshape nn_output to match the expected input shape of the U-Net\n",
    "        # Inside CombinedModel's forward method\n",
    "        nn_output = nn_output.view(nn_output.size(0), 1, 28, 28)\n",
    "\n",
    "        unet_output = self.unet(nn_output)\n",
    "\n",
    "        unet_output_flat = unet_output.view(-1, 784)\n",
    "\n",
    "        return  unet_output_flat\n",
    "\n",
    "\n",
    "\n",
    "# 创建合并后的模型\n",
    "# Create an instance of CombinedModel\n",
    "combined_model = CombinedModel()\n",
    "\n",
    "# Move the model to the specified device\n",
    "model = combined_model.to(device)\n",
    "\n",
    "print(f\"Before forward pass - GPU memory used: {torch.cuda.memory_allocated() / 1e9} GB\")"
   ]
  },
  {
   "cell_type": "code",
   "execution_count": 2,
   "metadata": {},
   "outputs": [
    {
     "name": "stdout",
     "output_type": "stream",
     "text": [
      "Before forward pass - GPU memory used: 0.00887552 GB\n",
      "torch.Size([10000, 100])\n",
      "torch.Size([10000, 784])\n",
      "torch.Size([1000, 100])\n",
      "torch.Size([1000, 784])\n"
     ]
    }
   ],
   "source": [
    "import pickle\n",
    "import torch\n",
    "device = torch.device('cuda' if torch.cuda.is_available() else 'cpu')\n",
    "# 读取.pkl文件\n",
    "with open('balance-train-spikecount.pkl', 'rb') as file:\n",
    "    input_data = pickle.load(file)\n",
    "\n",
    "# 转换为张量\n",
    "inputs = torch.tensor(input_data, dtype=torch.float32).to(device)\n",
    "print(f\"Before forward pass - GPU memory used: {torch.cuda.memory_allocated() / 1e9} GB\")\n",
    "\n",
    "with open('train-raw_image.pkl', 'rb') as file:\n",
    "    goal = pickle.load(file)\n",
    "\n",
    "with open('balance-test-spikecount.pkl', 'rb') as file:\n",
    "    test_data = pickle.load(file)\n",
    "with open('test-raw_image.pkl', 'rb') as file:\n",
    "    test_goal = pickle.load(file)\n",
    "test_data = torch.tensor(test_data, dtype=torch.float32).to(device)\n",
    "\n",
    "goal = torch.tensor(goal, dtype=torch.float32).to(device)\n",
    "test_goal = torch.tensor(test_goal, dtype=torch.float32).to(device)\n",
    "goal=goal\n",
    "test_goal=test_goal\n",
    "\n",
    "\n",
    "print(inputs.shape)\n",
    "print(goal.shape)\n",
    "print(test_data.shape)\n",
    "print(test_goal.shape)\n"
   ]
  },
  {
   "cell_type": "code",
   "execution_count": 3,
   "metadata": {},
   "outputs": [
    {
     "name": "stdout",
     "output_type": "stream",
     "text": [
      "Before forward pass - GPU memory used: 0.043869184 GB\n"
     ]
    }
   ],
   "source": [
    "import torchvision\n",
    "from torchvision.datasets import MNIST\n",
    "from torchvision.transforms import ToTensor\n",
    "from torch.utils.data import DataLoader\n",
    "import tempfile\n",
    "import numpy as np\n",
    "print(f\"Before forward pass - GPU memory used: {torch.cuda.memory_allocated() / 1e9} GB\")"
   ]
  },
  {
   "cell_type": "code",
   "execution_count": 4,
   "metadata": {},
   "outputs": [
    {
     "name": "stdout",
     "output_type": "stream",
     "text": [
      "Before forward pass - GPU memory used: 0.043869184 GB\n"
     ]
    }
   ],
   "source": [
    "torch.cuda.empty_cache()\n",
    "print(f\"Before forward pass - GPU memory used: {torch.cuda.memory_allocated() / 1e9} GB\")"
   ]
  },
  {
   "cell_type": "code",
   "execution_count": 5,
   "metadata": {},
   "outputs": [
    {
     "name": "stdout",
     "output_type": "stream",
     "text": [
      "Before forward pass - GPU memory used: 0.043869184 GB\n",
      "Before forward pass - GPU memory used: 0.043869184 GB\n",
      "Epoch: 0, Loss: 0.06483098119497299\n",
      "Epoch: 1, Loss: 0.035436514765024185\n",
      "Epoch: 2, Loss: 0.02456432394683361\n",
      "Epoch: 3, Loss: 0.016886921599507332\n",
      "Epoch: 4, Loss: 0.017983494326472282\n",
      "Epoch: 5, Loss: 0.013166501186788082\n",
      "Epoch: 6, Loss: 0.011619151569902897\n",
      "Epoch: 7, Loss: 0.013022181577980518\n",
      "Epoch: 8, Loss: 0.012409934774041176\n",
      "Epoch: 9, Loss: 0.010348851792514324\n",
      "Epoch: 10, Loss: 0.01088674459606409\n",
      "Epoch: 11, Loss: 0.008310223929584026\n",
      "Epoch: 12, Loss: 0.010150416754186153\n",
      "Epoch: 13, Loss: 0.00886387936770916\n",
      "Epoch: 14, Loss: 0.009580854326486588\n",
      "Epoch: 15, Loss: 0.007371256593614817\n",
      "Epoch: 16, Loss: 0.007731799967586994\n",
      "Epoch: 17, Loss: 0.008564434945583344\n",
      "Epoch: 18, Loss: 0.009588060900568962\n",
      "Epoch: 19, Loss: 0.007062116172164679\n",
      "Epoch: 20, Loss: 0.007336008362472057\n",
      "Epoch: 21, Loss: 0.008545014075934887\n",
      "Epoch: 22, Loss: 0.0059539019130170345\n",
      "Epoch: 23, Loss: 0.006846011616289616\n",
      "Epoch: 24, Loss: 0.006910920143127441\n",
      "Epoch: 25, Loss: 0.00729292631149292\n",
      "Epoch: 26, Loss: 0.007077207323163748\n",
      "Epoch: 27, Loss: 0.00857486017048359\n",
      "Epoch: 28, Loss: 0.008682997897267342\n",
      "Epoch: 29, Loss: 0.0070403460413217545\n",
      "Epoch: 30, Loss: 0.0051079122349619865\n",
      "Epoch: 31, Loss: 0.005498433485627174\n",
      "Epoch: 32, Loss: 0.0056283362209796906\n",
      "Epoch: 33, Loss: 0.005689268000423908\n",
      "Epoch: 34, Loss: 0.005436035338789225\n",
      "Epoch: 35, Loss: 0.006542534101754427\n",
      "Epoch: 36, Loss: 0.005615138914436102\n",
      "Epoch: 37, Loss: 0.006254065781831741\n",
      "Epoch: 38, Loss: 0.004730354994535446\n",
      "Epoch: 39, Loss: 0.006295162718743086\n",
      "Epoch: 40, Loss: 0.004837762098759413\n",
      "Epoch: 41, Loss: 0.0065721734426915646\n",
      "Epoch: 42, Loss: 0.005530830007046461\n",
      "Epoch: 43, Loss: 0.007263568229973316\n",
      "Epoch: 44, Loss: 0.0040671974420547485\n",
      "Epoch: 45, Loss: 0.004867895506322384\n",
      "Epoch: 46, Loss: 0.004419537726789713\n",
      "Epoch: 47, Loss: 0.004825761076062918\n",
      "Epoch: 48, Loss: 0.005008916836231947\n",
      "Epoch: 49, Loss: 0.004876520950347185\n",
      "Epoch: 50, Loss: 0.00397490756586194\n",
      "Epoch: 51, Loss: 0.004384631756693125\n",
      "Epoch: 52, Loss: 0.004483106080442667\n",
      "Epoch: 53, Loss: 0.004977392964065075\n",
      "Epoch: 54, Loss: 0.003980126231908798\n",
      "Epoch: 55, Loss: 0.003405488096177578\n",
      "Epoch: 56, Loss: 0.004441353026777506\n",
      "Epoch: 57, Loss: 0.005665985867381096\n",
      "Epoch: 58, Loss: 0.0042036911472678185\n",
      "Epoch: 59, Loss: 0.004962792620062828\n",
      "Epoch: 60, Loss: 0.0033075481187552214\n",
      "Epoch: 61, Loss: 0.0033166517969220877\n",
      "Epoch: 62, Loss: 0.004084029234945774\n",
      "Epoch: 63, Loss: 0.0035374299623072147\n",
      "Epoch: 64, Loss: 0.0038701386656612158\n",
      "Epoch: 65, Loss: 0.0038589828182011843\n",
      "Epoch: 66, Loss: 0.0026371129788458347\n",
      "Epoch: 67, Loss: 0.0035710802767425776\n",
      "Epoch: 68, Loss: 0.0035122239496558905\n",
      "Epoch: 69, Loss: 0.003811560571193695\n",
      "Epoch: 70, Loss: 0.003530459478497505\n",
      "Epoch: 71, Loss: 0.003945543896406889\n",
      "Epoch: 72, Loss: 0.0036720396019518375\n",
      "Epoch: 73, Loss: 0.0050296783447265625\n",
      "Epoch: 74, Loss: 0.003915442153811455\n",
      "Epoch: 75, Loss: 0.004264921881258488\n",
      "Epoch: 76, Loss: 0.0029068540316075087\n",
      "Epoch: 77, Loss: 0.003906506113708019\n",
      "Epoch: 78, Loss: 0.003493315540254116\n",
      "Epoch: 79, Loss: 0.002940170466899872\n",
      "Epoch: 80, Loss: 0.0032336972653865814\n",
      "Epoch: 81, Loss: 0.0044795735739171505\n",
      "Epoch: 82, Loss: 0.003491448936983943\n",
      "Epoch: 83, Loss: 0.004379867110401392\n",
      "Epoch: 84, Loss: 0.0034273916389793158\n",
      "Epoch: 85, Loss: 0.0038775827270001173\n",
      "Epoch: 86, Loss: 0.00386432115919888\n",
      "Epoch: 87, Loss: 0.0035336040891706944\n",
      "Epoch: 88, Loss: 0.0032203567679971457\n",
      "Epoch: 89, Loss: 0.002905322937294841\n",
      "Epoch: 90, Loss: 0.0035236214753240347\n",
      "Epoch: 91, Loss: 0.003447137540206313\n",
      "Epoch: 92, Loss: 0.004506856203079224\n",
      "Epoch: 93, Loss: 0.0047857691533863544\n",
      "Epoch: 94, Loss: 0.0038936897180974483\n",
      "Epoch: 95, Loss: 0.003296932904049754\n",
      "Epoch: 96, Loss: 0.0033673904836177826\n",
      "Epoch: 97, Loss: 0.003805202431976795\n",
      "Epoch: 98, Loss: 0.0028337081894278526\n",
      "Epoch: 99, Loss: 0.004060858394950628\n",
      "Epoch: 100, Loss: 0.003477822057902813\n",
      "Epoch: 101, Loss: 0.0034876398276537657\n",
      "Epoch: 102, Loss: 0.003298723604530096\n",
      "Epoch: 103, Loss: 0.0027007455937564373\n",
      "Epoch: 104, Loss: 0.003146836534142494\n",
      "Epoch: 105, Loss: 0.0031170740257948637\n",
      "Epoch: 106, Loss: 0.002755281748250127\n",
      "Epoch: 107, Loss: 0.0035564436111599207\n",
      "Epoch: 108, Loss: 0.002684458391740918\n",
      "Epoch: 109, Loss: 0.003259998746216297\n",
      "Epoch: 110, Loss: 0.0023863855749368668\n",
      "Epoch: 111, Loss: 0.0033713658340275288\n",
      "Epoch: 112, Loss: 0.003624246921390295\n",
      "Epoch: 113, Loss: 0.0037652214523404837\n",
      "Epoch: 114, Loss: 0.002764524891972542\n",
      "Epoch: 115, Loss: 0.0026240162551403046\n",
      "Epoch: 116, Loss: 0.0023532970808446407\n",
      "Epoch: 117, Loss: 0.003246404230594635\n",
      "Epoch: 118, Loss: 0.002158136572688818\n",
      "Epoch: 119, Loss: 0.0029300006572157145\n",
      "Epoch: 120, Loss: 0.002846848452463746\n",
      "Epoch: 121, Loss: 0.0025015794672071934\n",
      "Epoch: 122, Loss: 0.002819677349179983\n",
      "Epoch: 123, Loss: 0.0023976112715899944\n",
      "Epoch: 124, Loss: 0.0024982148315757513\n",
      "Epoch: 125, Loss: 0.0024834582582116127\n",
      "Epoch: 126, Loss: 0.0032849330455064774\n",
      "Epoch: 127, Loss: 0.0028269432950764894\n",
      "Epoch: 128, Loss: 0.0029158571269363165\n",
      "Epoch: 129, Loss: 0.0024216969031840563\n",
      "Epoch: 130, Loss: 0.0030204106587916613\n",
      "Epoch: 131, Loss: 0.0029956120997667313\n",
      "Epoch: 132, Loss: 0.002395610325038433\n",
      "Epoch: 133, Loss: 0.002690075198188424\n",
      "Epoch: 134, Loss: 0.0029044183902442455\n",
      "Epoch: 135, Loss: 0.0026005737017840147\n",
      "Epoch: 136, Loss: 0.002649114467203617\n",
      "Epoch: 137, Loss: 0.003334332024678588\n",
      "Epoch: 138, Loss: 0.002347782254219055\n",
      "Epoch: 139, Loss: 0.0031314115040004253\n",
      "Epoch: 140, Loss: 0.0022861799225211143\n",
      "Epoch: 141, Loss: 0.0026772338896989822\n",
      "Epoch: 142, Loss: 0.002541027730330825\n",
      "Epoch: 143, Loss: 0.002856598235666752\n",
      "Epoch: 144, Loss: 0.0028746260795742273\n",
      "Epoch: 145, Loss: 0.0027719559147953987\n",
      "Epoch: 146, Loss: 0.0022981923539191484\n",
      "Epoch: 147, Loss: 0.002822519512847066\n",
      "Epoch: 148, Loss: 0.0024016068782657385\n",
      "Epoch: 149, Loss: 0.002982386387884617\n",
      "Epoch: 150, Loss: 0.0028010609094053507\n",
      "Epoch: 151, Loss: 0.002744885627180338\n",
      "Epoch: 152, Loss: 0.0024500726722180843\n",
      "Epoch: 153, Loss: 0.002919697668403387\n",
      "Epoch: 154, Loss: 0.0022226085420697927\n",
      "Epoch: 155, Loss: 0.0022445451468229294\n",
      "Epoch: 156, Loss: 0.0024438167456537485\n",
      "Epoch: 157, Loss: 0.002844366477802396\n",
      "Epoch: 158, Loss: 0.0028412353713065386\n",
      "Epoch: 159, Loss: 0.002543084789067507\n",
      "Epoch: 160, Loss: 0.0022568919230252504\n",
      "Epoch: 161, Loss: 0.002286702860146761\n",
      "Epoch: 162, Loss: 0.0021815362852066755\n",
      "Epoch: 163, Loss: 0.0031651987228542566\n",
      "Epoch: 164, Loss: 0.002430984051898122\n",
      "Epoch: 165, Loss: 0.0021719043143093586\n",
      "Epoch: 166, Loss: 0.002253606915473938\n",
      "Epoch: 167, Loss: 0.002549121854826808\n",
      "Epoch: 168, Loss: 0.0026028594002127647\n",
      "Epoch: 169, Loss: 0.002054843818768859\n",
      "Epoch: 170, Loss: 0.002135524293407798\n",
      "Epoch: 171, Loss: 0.002375204348936677\n",
      "Epoch: 172, Loss: 0.0018491508672013879\n",
      "Epoch: 173, Loss: 0.0030451209750026464\n",
      "Epoch: 174, Loss: 0.002373957773670554\n",
      "Epoch: 175, Loss: 0.001991800731047988\n",
      "Epoch: 176, Loss: 0.0023902275133877993\n",
      "Epoch: 177, Loss: 0.002294966485351324\n",
      "Epoch: 178, Loss: 0.002266401657834649\n",
      "Epoch: 179, Loss: 0.0023715607821941376\n",
      "Epoch: 180, Loss: 0.002267704578116536\n",
      "Epoch: 181, Loss: 0.0029051247984170914\n",
      "Epoch: 182, Loss: 0.0021577132865786552\n",
      "Epoch: 183, Loss: 0.0024987657088786364\n",
      "Epoch: 184, Loss: 0.00219570635817945\n",
      "Epoch: 185, Loss: 0.002420281758531928\n",
      "Epoch: 186, Loss: 0.0026264493353664875\n",
      "Epoch: 187, Loss: 0.002530920086428523\n",
      "Epoch: 188, Loss: 0.0022146464325487614\n",
      "Epoch: 189, Loss: 0.00249657710082829\n",
      "Epoch: 190, Loss: 0.002445129444822669\n",
      "Epoch: 191, Loss: 0.0019429505337029696\n",
      "Epoch: 192, Loss: 0.002294579753652215\n",
      "Epoch: 193, Loss: 0.0024168735835701227\n",
      "Epoch: 194, Loss: 0.00215676287189126\n",
      "Epoch: 195, Loss: 0.002138465875759721\n",
      "Epoch: 196, Loss: 0.0019826216157525778\n",
      "Epoch: 197, Loss: 0.002024351619184017\n",
      "Epoch: 198, Loss: 0.0024476859252899885\n",
      "Epoch: 199, Loss: 0.0019445131765678525\n",
      "Epoch: 200, Loss: 0.002125546569004655\n",
      "Epoch: 201, Loss: 0.0026923310942947865\n",
      "Epoch: 202, Loss: 0.0021549812518060207\n",
      "Epoch: 203, Loss: 0.0022166105918586254\n",
      "Epoch: 204, Loss: 0.002562570618465543\n",
      "Epoch: 205, Loss: 0.0021835381630808115\n",
      "Epoch: 206, Loss: 0.0024941484443843365\n",
      "Epoch: 207, Loss: 0.0020686101634055376\n",
      "Epoch: 208, Loss: 0.0019647167064249516\n",
      "Epoch: 209, Loss: 0.0019740902353078127\n",
      "Epoch: 210, Loss: 0.0025158037897199392\n",
      "Epoch: 211, Loss: 0.0024322979152202606\n",
      "Epoch: 212, Loss: 0.0021165013313293457\n",
      "Epoch: 213, Loss: 0.00217811088077724\n",
      "Epoch: 214, Loss: 0.0022363399621099234\n",
      "Epoch: 215, Loss: 0.0024819220416247845\n",
      "Epoch: 216, Loss: 0.0017591158393770456\n",
      "Epoch: 217, Loss: 0.001926971017383039\n",
      "Epoch: 218, Loss: 0.002088080858811736\n",
      "Epoch: 219, Loss: 0.001919805072247982\n",
      "Epoch: 220, Loss: 0.0019200087990611792\n",
      "Epoch: 221, Loss: 0.0028222326654940844\n",
      "Epoch: 222, Loss: 0.0019784693140536547\n",
      "Epoch: 223, Loss: 0.00205579143948853\n",
      "Epoch: 224, Loss: 0.002208277815952897\n",
      "Epoch: 225, Loss: 0.002246278803795576\n",
      "Epoch: 226, Loss: 0.0019057404715567827\n",
      "Epoch: 227, Loss: 0.002224695635959506\n",
      "Epoch: 228, Loss: 0.002157290233299136\n",
      "Epoch: 229, Loss: 0.0021046530455350876\n",
      "Epoch: 230, Loss: 0.0025484380312263966\n",
      "Epoch: 231, Loss: 0.002772207371890545\n",
      "Epoch: 232, Loss: 0.0018445110181346536\n",
      "Epoch: 233, Loss: 0.0021484491880983114\n",
      "Epoch: 234, Loss: 0.002680361270904541\n",
      "Epoch: 235, Loss: 0.0021926462650299072\n",
      "Epoch: 236, Loss: 0.0027456136886030436\n",
      "Epoch: 237, Loss: 0.0020005872938781977\n",
      "Epoch: 238, Loss: 0.001851408975198865\n",
      "Epoch: 239, Loss: 0.0019696990493685007\n",
      "Epoch: 240, Loss: 0.0018365379655733705\n",
      "Epoch: 241, Loss: 0.001975646009668708\n",
      "Epoch: 242, Loss: 0.002208518097177148\n",
      "Epoch: 243, Loss: 0.0022714599035680294\n",
      "Epoch: 244, Loss: 0.0019230531761422753\n",
      "Epoch: 245, Loss: 0.001847050036303699\n",
      "Epoch: 246, Loss: 0.0017149344785138965\n",
      "Epoch: 247, Loss: 0.0020536994561553\n",
      "Epoch: 248, Loss: 0.001980531495064497\n",
      "Epoch: 249, Loss: 0.001962661510333419\n",
      "Epoch: 250, Loss: 0.0020336094312369823\n",
      "Epoch: 251, Loss: 0.0022639292292296886\n",
      "Epoch: 252, Loss: 0.0017445685807615519\n",
      "Epoch: 253, Loss: 0.0016840766184031963\n",
      "Epoch: 254, Loss: 0.0018038576235994697\n",
      "Epoch: 255, Loss: 0.0020802393555641174\n",
      "Epoch: 256, Loss: 0.0025400950107723475\n",
      "Epoch: 257, Loss: 0.0016849798848852515\n",
      "Epoch: 258, Loss: 0.001943134469911456\n",
      "Epoch: 259, Loss: 0.0019561569206416607\n",
      "Epoch: 260, Loss: 0.002778962254524231\n",
      "Epoch: 261, Loss: 0.0019308954942971468\n",
      "Epoch: 262, Loss: 0.0022058794274926186\n",
      "Epoch: 263, Loss: 0.001546544604934752\n",
      "Epoch: 264, Loss: 0.0020811466965824366\n",
      "Epoch: 265, Loss: 0.0018713781610131264\n",
      "Epoch: 266, Loss: 0.0020505262073129416\n",
      "Epoch: 267, Loss: 0.002097776625305414\n",
      "Epoch: 268, Loss: 0.0019224730785936117\n",
      "Epoch: 269, Loss: 0.002228414872661233\n",
      "Epoch: 270, Loss: 0.002351087285205722\n",
      "Epoch: 271, Loss: 0.002001276472583413\n",
      "Epoch: 272, Loss: 0.002193714492022991\n",
      "Epoch: 273, Loss: 0.0024237167090177536\n",
      "Epoch: 274, Loss: 0.0018731520976871252\n",
      "Epoch: 275, Loss: 0.0017051424365490675\n",
      "Epoch: 276, Loss: 0.0018939552828669548\n",
      "Epoch: 277, Loss: 0.0018283770186826587\n",
      "Epoch: 278, Loss: 0.0018665187526494265\n",
      "Epoch: 279, Loss: 0.0027383386623114347\n",
      "Epoch: 280, Loss: 0.0017279301537200809\n",
      "Epoch: 281, Loss: 0.0017272558761760592\n",
      "Epoch: 282, Loss: 0.00236694747582078\n",
      "Epoch: 283, Loss: 0.0018872034270316362\n",
      "Epoch: 284, Loss: 0.0018955946434289217\n",
      "Epoch: 285, Loss: 0.00232899934053421\n",
      "Epoch: 286, Loss: 0.001838971977122128\n",
      "Epoch: 287, Loss: 0.0016778171993792057\n",
      "Epoch: 288, Loss: 0.0020602531731128693\n",
      "Epoch: 289, Loss: 0.0018031704239547253\n",
      "Epoch: 290, Loss: 0.0020161622669547796\n",
      "Epoch: 291, Loss: 0.0020494211930781603\n",
      "Epoch: 292, Loss: 0.002515581203624606\n",
      "Epoch: 293, Loss: 0.0018622602801769972\n",
      "Epoch: 294, Loss: 0.0027572684921324253\n",
      "Epoch: 295, Loss: 0.0018671394791454077\n",
      "Epoch: 296, Loss: 0.0022944449447095394\n",
      "Epoch: 297, Loss: 0.0017770963022485375\n",
      "Epoch: 298, Loss: 0.0028959177434444427\n",
      "Epoch: 299, Loss: 0.002005852060392499\n",
      "Epoch: 300, Loss: 0.002187501173466444\n",
      "Epoch: 301, Loss: 0.0016816675197333097\n",
      "Epoch: 302, Loss: 0.001790177309885621\n",
      "Epoch: 303, Loss: 0.0021724379621446133\n",
      "Epoch: 304, Loss: 0.0017946669831871986\n",
      "Epoch: 305, Loss: 0.002192396903410554\n",
      "Epoch: 306, Loss: 0.002820538589730859\n",
      "Epoch: 307, Loss: 0.0019973397720605135\n",
      "Epoch: 308, Loss: 0.001732638687826693\n",
      "Epoch: 309, Loss: 0.002160414820536971\n",
      "Epoch: 310, Loss: 0.002148080850020051\n",
      "Epoch: 311, Loss: 0.0020207997877150774\n",
      "Epoch: 312, Loss: 0.0018044168828055263\n",
      "Epoch: 313, Loss: 0.0015313745243474841\n",
      "Epoch: 314, Loss: 0.0017497496446594596\n",
      "Epoch: 315, Loss: 0.002235816325992346\n",
      "Epoch: 316, Loss: 0.001665350398980081\n",
      "Epoch: 317, Loss: 0.001760006183758378\n",
      "Epoch: 318, Loss: 0.00155731406994164\n",
      "Epoch: 319, Loss: 0.0014619635185226798\n",
      "Epoch: 320, Loss: 0.0019402680918574333\n",
      "Epoch: 321, Loss: 0.0024140907917171717\n",
      "Epoch: 322, Loss: 0.002178933471441269\n",
      "Epoch: 323, Loss: 0.001916009234264493\n",
      "Epoch: 324, Loss: 0.0015006697503849864\n",
      "Epoch: 325, Loss: 0.001989346230402589\n",
      "Epoch: 326, Loss: 0.002227774355560541\n",
      "Epoch: 327, Loss: 0.001985423266887665\n",
      "Epoch: 328, Loss: 0.0017555078957229853\n",
      "Epoch: 329, Loss: 0.0022416533902287483\n",
      "Epoch: 330, Loss: 0.0016266690799966455\n",
      "Epoch: 331, Loss: 0.001772417570464313\n",
      "Epoch: 332, Loss: 0.001422300934791565\n",
      "Epoch: 333, Loss: 0.0017075319774448872\n",
      "Epoch: 334, Loss: 0.001491983886808157\n",
      "Epoch: 335, Loss: 0.0016951769357547164\n",
      "Epoch: 336, Loss: 0.0015137370210140944\n",
      "Epoch: 337, Loss: 0.0019185977289453149\n",
      "Epoch: 338, Loss: 0.0016943543450906873\n",
      "Epoch: 339, Loss: 0.0017243114998564124\n",
      "Epoch: 340, Loss: 0.002314529148861766\n",
      "Epoch: 341, Loss: 0.0025439406745135784\n",
      "Epoch: 342, Loss: 0.0022295922972261906\n",
      "Epoch: 343, Loss: 0.0017871188465505838\n",
      "Epoch: 344, Loss: 0.0016609336016699672\n",
      "Epoch: 345, Loss: 0.0026066494174301624\n",
      "Epoch: 346, Loss: 0.0017778505571186543\n",
      "Epoch: 347, Loss: 0.0015128653030842543\n",
      "Epoch: 348, Loss: 0.0017843407113105059\n",
      "Epoch: 349, Loss: 0.002052302472293377\n",
      "Epoch: 350, Loss: 0.002152438974007964\n",
      "Epoch: 351, Loss: 0.0016874256543815136\n",
      "Epoch: 352, Loss: 0.001687107258476317\n",
      "Epoch: 353, Loss: 0.0014725899090990424\n",
      "Epoch: 354, Loss: 0.0017976349918171763\n",
      "Epoch: 355, Loss: 0.0015699133509770036\n",
      "Epoch: 356, Loss: 0.0014791673747822642\n",
      "Epoch: 357, Loss: 0.001750946044921875\n",
      "Epoch: 358, Loss: 0.0019436420407146215\n",
      "Epoch: 359, Loss: 0.003190501593053341\n",
      "Epoch: 360, Loss: 0.0018249141285195947\n",
      "Epoch: 361, Loss: 0.001734829624183476\n",
      "Epoch: 362, Loss: 0.0022059727925807238\n",
      "Epoch: 363, Loss: 0.0017316594021394849\n",
      "Epoch: 364, Loss: 0.0016139097278937697\n",
      "Epoch: 365, Loss: 0.0023139386903494596\n",
      "Epoch: 366, Loss: 0.0020206167828291655\n",
      "Epoch: 367, Loss: 0.0014099711552262306\n",
      "Epoch: 368, Loss: 0.0019112792797386646\n",
      "Epoch: 369, Loss: 0.0016621402464807034\n",
      "Epoch: 370, Loss: 0.0016769813373684883\n",
      "Epoch: 371, Loss: 0.00176845898386091\n",
      "Epoch: 372, Loss: 0.0017710512038320303\n",
      "Epoch: 373, Loss: 0.0020083379931747913\n",
      "Epoch: 374, Loss: 0.0020697356667369604\n",
      "Epoch: 375, Loss: 0.0016481186030432582\n",
      "Epoch: 376, Loss: 0.0019616051577031612\n",
      "Epoch: 377, Loss: 0.002465439261868596\n",
      "Epoch: 378, Loss: 0.001534600043669343\n",
      "Epoch: 379, Loss: 0.0017095953226089478\n",
      "Epoch: 380, Loss: 0.0017059813253581524\n",
      "Epoch: 381, Loss: 0.003110721241682768\n",
      "Epoch: 382, Loss: 0.001713415258564055\n",
      "Epoch: 383, Loss: 0.0014573456719517708\n",
      "Epoch: 384, Loss: 0.0020513925701379776\n",
      "Epoch: 385, Loss: 0.0017252527177333832\n",
      "Epoch: 386, Loss: 0.001597234862856567\n",
      "Epoch: 387, Loss: 0.001624010968953371\n",
      "Epoch: 388, Loss: 0.0018599879695102572\n",
      "Epoch: 389, Loss: 0.001967635238543153\n",
      "Epoch: 390, Loss: 0.001795122167095542\n",
      "Epoch: 391, Loss: 0.002118324162438512\n",
      "Epoch: 392, Loss: 0.0014521462144330144\n",
      "Epoch: 393, Loss: 0.0016866521909832954\n",
      "Epoch: 394, Loss: 0.0017208324279636145\n",
      "Epoch: 395, Loss: 0.0019370788941159844\n",
      "Epoch: 396, Loss: 0.001560270437039435\n",
      "Epoch: 397, Loss: 0.0016076897736638784\n",
      "Epoch: 398, Loss: 0.0015210749115794897\n",
      "Epoch: 399, Loss: 0.0013883550418540835\n",
      "Epoch: 400, Loss: 0.0026181142311543226\n",
      "Epoch: 401, Loss: 0.0015832118224352598\n",
      "Epoch: 402, Loss: 0.001912746811285615\n",
      "Epoch: 403, Loss: 0.0015450369101017714\n",
      "Epoch: 404, Loss: 0.0015318843070417643\n",
      "Epoch: 405, Loss: 0.0018376014195382595\n",
      "Epoch: 406, Loss: 0.001873369561508298\n",
      "Epoch: 407, Loss: 0.0018061375012621284\n",
      "Epoch: 408, Loss: 0.0013646262232214212\n",
      "Epoch: 409, Loss: 0.00139209209010005\n",
      "Epoch: 410, Loss: 0.0015005478635430336\n",
      "Epoch: 411, Loss: 0.0015079667791724205\n",
      "Epoch: 412, Loss: 0.0017483729170635343\n",
      "Epoch: 413, Loss: 0.0022183372639119625\n",
      "Epoch: 414, Loss: 0.0017159507842734456\n",
      "Epoch: 415, Loss: 0.0018921262817457318\n",
      "Epoch: 416, Loss: 0.0020672911778092384\n",
      "Epoch: 417, Loss: 0.0022625508718192577\n",
      "Epoch: 418, Loss: 0.0017964030848816037\n",
      "Epoch: 419, Loss: 0.0023982934653759003\n",
      "Epoch: 420, Loss: 0.0021791458129882812\n",
      "Epoch: 421, Loss: 0.0018616339657455683\n",
      "Epoch: 422, Loss: 0.0014576541725546122\n",
      "Epoch: 423, Loss: 0.0015360185643658042\n",
      "Epoch: 424, Loss: 0.0018987898947671056\n",
      "Epoch: 425, Loss: 0.0019378132419660687\n",
      "Epoch: 426, Loss: 0.001524707768112421\n",
      "Epoch: 427, Loss: 0.0018954483093693852\n",
      "Epoch: 428, Loss: 0.001295059104450047\n",
      "Epoch: 429, Loss: 0.0016578786307945848\n",
      "Epoch: 430, Loss: 0.0017758947797119617\n",
      "Epoch: 431, Loss: 0.0021210387349128723\n",
      "Epoch: 432, Loss: 0.00163700757548213\n",
      "Epoch: 433, Loss: 0.0016622539842501283\n",
      "Epoch: 434, Loss: 0.001531229354441166\n",
      "Epoch: 435, Loss: 0.001606119447387755\n",
      "Epoch: 436, Loss: 0.0018048044294118881\n",
      "Epoch: 437, Loss: 0.0015026567270979285\n",
      "Epoch: 438, Loss: 0.0013908378314226866\n",
      "Epoch: 439, Loss: 0.0017470131861045957\n",
      "Epoch: 440, Loss: 0.0014406112022697926\n",
      "Epoch: 441, Loss: 0.0015415470115840435\n",
      "Epoch: 442, Loss: 0.0018043086165562272\n",
      "Epoch: 443, Loss: 0.0015073282411321998\n",
      "Epoch: 444, Loss: 0.0016753928503021598\n",
      "Epoch: 445, Loss: 0.0015568772796541452\n",
      "Epoch: 446, Loss: 0.0019941707141697407\n",
      "Epoch: 447, Loss: 0.0017473341431468725\n",
      "Epoch: 448, Loss: 0.0012945156777277589\n",
      "Epoch: 449, Loss: 0.001965399831533432\n",
      "Epoch: 450, Loss: 0.0018993718549609184\n",
      "Epoch: 451, Loss: 0.0014203692553564906\n",
      "Epoch: 452, Loss: 0.001625034841708839\n",
      "Epoch: 453, Loss: 0.0016605963464826345\n",
      "Epoch: 454, Loss: 0.0018498686840757728\n",
      "Epoch: 455, Loss: 0.0017649634974077344\n",
      "Epoch: 456, Loss: 0.0012786546722054482\n",
      "Epoch: 457, Loss: 0.0018673151498660445\n",
      "Epoch: 458, Loss: 0.0017656423151493073\n",
      "Epoch: 459, Loss: 0.0020918408408761024\n",
      "Epoch: 460, Loss: 0.0016581370728090405\n",
      "Epoch: 461, Loss: 0.0012985169887542725\n",
      "Epoch: 462, Loss: 0.0017687411746010184\n",
      "Epoch: 463, Loss: 0.0014448266010731459\n",
      "Epoch: 464, Loss: 0.0015437511028721929\n",
      "Epoch: 465, Loss: 0.0016798315336927772\n",
      "Epoch: 466, Loss: 0.0016666373703628778\n",
      "Epoch: 467, Loss: 0.0014245158527046442\n",
      "Epoch: 468, Loss: 0.0014218660071492195\n",
      "Epoch: 469, Loss: 0.001668453449383378\n",
      "Epoch: 470, Loss: 0.002003791742026806\n",
      "Epoch: 471, Loss: 0.0017086935695260763\n",
      "Epoch: 472, Loss: 0.001829944085329771\n",
      "Epoch: 473, Loss: 0.0013926351675763726\n",
      "Epoch: 474, Loss: 0.0014127553440630436\n",
      "Epoch: 475, Loss: 0.0018069512443616986\n",
      "Epoch: 476, Loss: 0.002008888404816389\n",
      "Epoch: 477, Loss: 0.001609964412637055\n",
      "Epoch: 478, Loss: 0.001750900992192328\n",
      "Epoch: 479, Loss: 0.0017652964452281594\n",
      "Epoch: 480, Loss: 0.0016029886901378632\n",
      "Epoch: 481, Loss: 0.0014530009357258677\n",
      "Epoch: 482, Loss: 0.0017428896389901638\n",
      "Epoch: 483, Loss: 0.0019669183529913425\n",
      "Epoch: 484, Loss: 0.0015877720434218645\n",
      "Epoch: 485, Loss: 0.0016566566191613674\n",
      "Epoch: 486, Loss: 0.0014665515627712011\n",
      "Epoch: 487, Loss: 0.001779430778697133\n",
      "Epoch: 488, Loss: 0.0012997746234759688\n",
      "Epoch: 489, Loss: 0.001476201694458723\n",
      "Epoch: 490, Loss: 0.002538384171202779\n",
      "Epoch: 491, Loss: 0.0015938268043100834\n",
      "Epoch: 492, Loss: 0.001804149942472577\n",
      "Epoch: 493, Loss: 0.0018368983874097466\n",
      "Epoch: 494, Loss: 0.0017003238899633288\n",
      "Epoch: 495, Loss: 0.0016082983929663897\n",
      "Epoch: 496, Loss: 0.0013433980057016015\n",
      "Epoch: 497, Loss: 0.0017560870619490743\n",
      "Epoch: 498, Loss: 0.001692835707217455\n",
      "Epoch: 499, Loss: 0.0015722251264378428\n"
     ]
    },
    {
     "data": {
      "text/plain": [
       "CombinedModel(\n",
       "  (neural_network): NeuralNetwork(\n",
       "    (fc1): Linear(in_features=100, out_features=512, bias=True)\n",
       "    (fc2): Linear(in_features=512, out_features=512, bias=True)\n",
       "    (fc3): Linear(in_features=512, out_features=784, bias=True)\n",
       "  )\n",
       "  (unet): Unet(\n",
       "    (layer1_conv): double_conv2d_bn(\n",
       "      (conv1): Conv2d(1, 8, kernel_size=(3, 3), stride=(1, 1), padding=(1, 1))\n",
       "      (conv2): Conv2d(8, 8, kernel_size=(3, 3), stride=(1, 1), padding=(1, 1))\n",
       "      (bn1): BatchNorm2d(8, eps=1e-05, momentum=0.1, affine=True, track_running_stats=True)\n",
       "      (bn2): BatchNorm2d(8, eps=1e-05, momentum=0.1, affine=True, track_running_stats=True)\n",
       "    )\n",
       "    (layer2_conv): double_conv2d_bn(\n",
       "      (conv1): Conv2d(8, 16, kernel_size=(3, 3), stride=(1, 1), padding=(1, 1))\n",
       "      (conv2): Conv2d(16, 16, kernel_size=(3, 3), stride=(1, 1), padding=(1, 1))\n",
       "      (bn1): BatchNorm2d(16, eps=1e-05, momentum=0.1, affine=True, track_running_stats=True)\n",
       "      (bn2): BatchNorm2d(16, eps=1e-05, momentum=0.1, affine=True, track_running_stats=True)\n",
       "    )\n",
       "    (layer3_conv): double_conv2d_bn(\n",
       "      (conv1): Conv2d(16, 32, kernel_size=(3, 3), stride=(1, 1), padding=(1, 1))\n",
       "      (conv2): Conv2d(32, 32, kernel_size=(3, 3), stride=(1, 1), padding=(1, 1))\n",
       "      (bn1): BatchNorm2d(32, eps=1e-05, momentum=0.1, affine=True, track_running_stats=True)\n",
       "      (bn2): BatchNorm2d(32, eps=1e-05, momentum=0.1, affine=True, track_running_stats=True)\n",
       "    )\n",
       "    (layer4_conv): double_conv2d_bn(\n",
       "      (conv1): Conv2d(32, 64, kernel_size=(3, 3), stride=(1, 1), padding=(1, 1))\n",
       "      (conv2): Conv2d(64, 64, kernel_size=(3, 3), stride=(1, 1), padding=(1, 1))\n",
       "      (bn1): BatchNorm2d(64, eps=1e-05, momentum=0.1, affine=True, track_running_stats=True)\n",
       "      (bn2): BatchNorm2d(64, eps=1e-05, momentum=0.1, affine=True, track_running_stats=True)\n",
       "    )\n",
       "    (layer5_conv): double_conv2d_bn(\n",
       "      (conv1): Conv2d(64, 128, kernel_size=(3, 3), stride=(1, 1), padding=(1, 1))\n",
       "      (conv2): Conv2d(128, 128, kernel_size=(3, 3), stride=(1, 1), padding=(1, 1))\n",
       "      (bn1): BatchNorm2d(128, eps=1e-05, momentum=0.1, affine=True, track_running_stats=True)\n",
       "      (bn2): BatchNorm2d(128, eps=1e-05, momentum=0.1, affine=True, track_running_stats=True)\n",
       "    )\n",
       "    (layer6_conv): double_conv2d_bn(\n",
       "      (conv1): Conv2d(128, 64, kernel_size=(3, 3), stride=(1, 1), padding=(1, 1))\n",
       "      (conv2): Conv2d(64, 64, kernel_size=(3, 3), stride=(1, 1), padding=(1, 1))\n",
       "      (bn1): BatchNorm2d(64, eps=1e-05, momentum=0.1, affine=True, track_running_stats=True)\n",
       "      (bn2): BatchNorm2d(64, eps=1e-05, momentum=0.1, affine=True, track_running_stats=True)\n",
       "    )\n",
       "    (layer7_conv): double_conv2d_bn(\n",
       "      (conv1): Conv2d(64, 32, kernel_size=(3, 3), stride=(1, 1), padding=(1, 1))\n",
       "      (conv2): Conv2d(32, 32, kernel_size=(3, 3), stride=(1, 1), padding=(1, 1))\n",
       "      (bn1): BatchNorm2d(32, eps=1e-05, momentum=0.1, affine=True, track_running_stats=True)\n",
       "      (bn2): BatchNorm2d(32, eps=1e-05, momentum=0.1, affine=True, track_running_stats=True)\n",
       "    )\n",
       "    (layer8_conv): double_conv2d_bn(\n",
       "      (conv1): Conv2d(32, 16, kernel_size=(3, 3), stride=(1, 1), padding=(1, 1))\n",
       "      (conv2): Conv2d(16, 16, kernel_size=(3, 3), stride=(1, 1), padding=(1, 1))\n",
       "      (bn1): BatchNorm2d(16, eps=1e-05, momentum=0.1, affine=True, track_running_stats=True)\n",
       "      (bn2): BatchNorm2d(16, eps=1e-05, momentum=0.1, affine=True, track_running_stats=True)\n",
       "    )\n",
       "    (layer9_conv): double_conv2d_bn(\n",
       "      (conv1): Conv2d(16, 8, kernel_size=(3, 3), stride=(1, 1), padding=(1, 1))\n",
       "      (conv2): Conv2d(8, 8, kernel_size=(3, 3), stride=(1, 1), padding=(1, 1))\n",
       "      (bn1): BatchNorm2d(8, eps=1e-05, momentum=0.1, affine=True, track_running_stats=True)\n",
       "      (bn2): BatchNorm2d(8, eps=1e-05, momentum=0.1, affine=True, track_running_stats=True)\n",
       "    )\n",
       "    (layer10_conv): Conv2d(8, 1, kernel_size=(3, 3), stride=(1, 1), padding=(1, 1))\n",
       "    (deconv1): deconv2d_bn(\n",
       "      (conv1): ConvTranspose2d(128, 64, kernel_size=(2, 2), stride=(2, 2))\n",
       "      (bn1): BatchNorm2d(64, eps=1e-05, momentum=0.1, affine=True, track_running_stats=True)\n",
       "    )\n",
       "    (deconv2): deconv2d_bn(\n",
       "      (conv1): ConvTranspose2d(64, 32, kernel_size=(2, 2), stride=(2, 2))\n",
       "      (bn1): BatchNorm2d(32, eps=1e-05, momentum=0.1, affine=True, track_running_stats=True)\n",
       "    )\n",
       "    (deconv3): deconv2d_bn(\n",
       "      (conv1): ConvTranspose2d(32, 16, kernel_size=(2, 2), stride=(2, 2))\n",
       "      (bn1): BatchNorm2d(16, eps=1e-05, momentum=0.1, affine=True, track_running_stats=True)\n",
       "    )\n",
       "    (deconv4): deconv2d_bn(\n",
       "      (conv1): ConvTranspose2d(16, 8, kernel_size=(2, 2), stride=(2, 2))\n",
       "      (bn1): BatchNorm2d(8, eps=1e-05, momentum=0.1, affine=True, track_running_stats=True)\n",
       "    )\n",
       "    (sigmoid): Sigmoid()\n",
       "  )\n",
       ")"
      ]
     },
     "execution_count": 5,
     "metadata": {},
     "output_type": "execute_result"
    }
   ],
   "source": [
    "from torch.utils.data import DataLoader, TensorDataset\n",
    "import gc\n",
    "torch.cuda.empty_cache()\n",
    "print(f\"Before forward pass - GPU memory used: {torch.cuda.memory_allocated() / 1e9} GB\")\n",
    "\n",
    "loss_fn = nn.MSELoss()\n",
    "optimizer = optim.AdamW(model.parameters(), lr=0.0001)\n",
    "scheduler = optim.lr_scheduler.StepLR(optimizer, step_size=50, gamma=0.8)\n",
    "\n",
    "goal = goal.view(-1, 784)\n",
    "\n",
    "dataset = TensorDataset(inputs, goal)\n",
    "\n",
    "\n",
    "# 定义DataLoader\n",
    "dataloader = DataLoader(\n",
    "    dataset=dataset, \n",
    "    batch_size=32,\n",
    "    shuffle=True,\n",
    ")  # 这样将保持图像和标签的对应关系\n",
    "    \n",
    "gc.collect()\n",
    "torch.cuda.empty_cache()\n",
    "print(f\"Before forward pass - GPU memory used: {torch.cuda.memory_allocated() / 1e9} GB\")\n",
    "\n",
    "for epoch in range(500):\n",
    "    for i, batch in enumerate(dataloader):\n",
    "        inputs, goal = batch\n",
    "        model_outputs = model(inputs)\n",
    "        loss = loss_fn(model_outputs, goal)\n",
    "        loss.backward()\n",
    "        optimizer.step()\n",
    "        optimizer.zero_grad()\n",
    "    scheduler.step()\n",
    "    torch.cuda.empty_cache()\n",
    "    gc.collect()\n",
    "    print('Epoch: {}, Loss: {}'.format(epoch, loss.item()))\n",
    "model.eval()"
   ]
  },
  {
   "cell_type": "code",
   "execution_count": 6,
   "metadata": {},
   "outputs": [
    {
     "name": "stdout",
     "output_type": "stream",
     "text": [
      "Average Test Loss: 0.010472420835867524\n"
     ]
    }
   ],
   "source": [
    "testdataset = TensorDataset(test_data, test_goal)\n",
    "testdataloader = DataLoader(\n",
    "    dataset=testdataset, \n",
    "    batch_size=32,\n",
    "    shuffle=True,\n",
    ") \n",
    "criterion = torch.nn.MSELoss()\n",
    "\n",
    "test_loss = 0.0\n",
    "total_batches = 0\n",
    "with torch.no_grad():  # Disable gradient computation during testing\n",
    "    for i, batch in enumerate(testdataloader):\n",
    "        test_data, test_goal = batch\n",
    "        model_outputs = model(test_data)\n",
    "        loss = criterion(model_outputs, test_goal)\n",
    "        test_loss += loss.item()\n",
    "        total_batches += 1\n",
    "average_test_loss = test_loss / total_batches\n",
    "print('Average Test Loss: {}'.format(average_test_loss))"
   ]
  },
  {
   "cell_type": "code",
   "execution_count": 7,
   "metadata": {},
   "outputs": [
    {
     "data": {
      "image/png": "[encoded data removed]",
      "text/plain": [
       "<Figure size 640x480 with 1 Axes>"
      ]
     },
     "metadata": {},
     "output_type": "display_data"
    },
    {
     "data": {
      "image/png": "[encoded data removed]",
      "text/plain": [
       "<Figure size 640x480 with 1 Axes>"
      ]
     },
     "metadata": {},
     "output_type": "display_data"
    },
    {
     "name": "stdout",
     "output_type": "stream",
     "text": [
      "PSNR: 21.027671813964844, SSIM: 0.8951720370287395\n"
     ]
    },
    {
     "data": {
      "image/png": "[encoded data removed]",
      "text/plain": [
       "<Figure size 640x480 with 1 Axes>"
      ]
     },
     "metadata": {},
     "output_type": "display_data"
    },
    {
     "data": {
      "image/png": "[encoded data removed]",
      "text/plain": [
       "<Figure size 640x480 with 1 Axes>"
      ]
     },
     "metadata": {},
     "output_type": "display_data"
    },
    {
     "name": "stdout",
     "output_type": "stream",
     "text": [
      "PSNR: 19.37820053100586, SSIM: 0.9033390394660347\n"
     ]
    },
    {
     "data": {
      "image/png": "[encoded data removed]",
      "text/plain": [
       "<Figure size 640x480 with 1 Axes>"
      ]
     },
     "metadata": {},
     "output_type": "display_data"
    },
    {
     "data": {
      "image/png": "[encoded data removed]",
      "text/plain": [
       "<Figure size 640x480 with 1 Axes>"
      ]
     },
     "metadata": {},
     "output_type": "display_data"
    },
    {
     "name": "stdout",
     "output_type": "stream",
     "text": [
      "PSNR: 20.0850887298584, SSIM: 0.8928288189380527\n"
     ]
    },
    {
     "data": {
      "image/png": "[encoded data removed]",
      "text/plain": [
       "<Figure size 640x480 with 1 Axes>"
      ]
     },
     "metadata": {},
     "output_type": "display_data"
    },
    {
     "data": {
      "image/png": "[encoded data removed]",
      "text/plain": [
       "<Figure size 640x480 with 1 Axes>"
      ]
     },
     "metadata": {},
     "output_type": "display_data"
    },
    {
     "name": "stdout",
     "output_type": "stream",
     "text": [
      "PSNR: 24.005863189697266, SSIM: 0.9603327552282328\n"
     ]
    },
    {
     "data": {
      "image/png": "[encoded data removed]",
      "text/plain": [
       "<Figure size 640x480 with 1 Axes>"
      ]
     },
     "metadata": {},
     "output_type": "display_data"
    },
    {
     "data": {
      "image/png": "[encoded data removed]",
      "text/plain": [
       "<Figure size 640x480 with 1 Axes>"
      ]
     },
     "metadata": {},
     "output_type": "display_data"
    },
    {
     "name": "stdout",
     "output_type": "stream",
     "text": [
      "PSNR: 19.569747924804688, SSIM: 0.8608153055600484\n"
     ]
    },
    {
     "data": {
      "image/png": "[encoded data removed]",
      "text/plain": [
       "<Figure size 640x480 with 1 Axes>"
      ]
     },
     "metadata": {},
     "output_type": "display_data"
    },
    {
     "data": {
      "image/png": "[encoded data removed]",
      "text/plain": [
       "<Figure size 640x480 with 1 Axes>"
      ]
     },
     "metadata": {},
     "output_type": "display_data"
    },
    {
     "name": "stdout",
     "output_type": "stream",
     "text": [
      "PSNR: 22.988056182861328, SSIM: 0.9665065807291533\n"
     ]
    },
    {
     "data": {
      "image/png": "[encoded data removed]",
      "text/plain": [
       "<Figure size 640x480 with 1 Axes>"
      ]
     },
     "metadata": {},
     "output_type": "display_data"
    },
    {
     "data": {
      "image/png": "[encoded data removed]",
      "text/plain": [
       "<Figure size 640x480 with 1 Axes>"
      ]
     },
     "metadata": {},
     "output_type": "display_data"
    },
    {
     "name": "stdout",
     "output_type": "stream",
     "text": [
      "PSNR: 19.817428588867188, SSIM: 0.9130811747979648\n"
     ]
    },
    {
     "data": {
      "image/png": "[encoded data removed]",
      "text/plain": [
       "<Figure size 640x480 with 1 Axes>"
      ]
     },
     "metadata": {},
     "output_type": "display_data"
    },
    {
     "data": {
      "image/png": "[encoded data removed]",
      "text/plain": [
       "<Figure size 640x480 with 1 Axes>"
      ]
     },
     "metadata": {},
     "output_type": "display_data"
    },
    {
     "name": "stdout",
     "output_type": "stream",
     "text": [
      "PSNR: 24.233949661254883, SSIM: 0.9523713947181058\n"
     ]
    }
   ],
   "source": [
    "import matplotlib.pyplot as plt\n",
    "from skimage.metrics import structural_similarity as compare_ssim\n",
    "\n",
    "with torch.no_grad():\n",
    "    reconstructed_images = model_outputs[:10]\n",
    "    for i, image in enumerate(reconstructed_images):\n",
    "        image = image.view(28, 28).cpu()\n",
    "\n",
    "        original_image = test_goal[i].view(28, 28).cpu()\n",
    "        original_image_np = original_image.detach().cpu().numpy().squeeze()  # Convert to NumPy array\n",
    "        image_np = image.detach().cpu().numpy().squeeze()  # Convert to NumPy array\n",
    "\n",
    "        # Ensure the data type is float\n",
    "        original_image_np = original_image_np.astype(float)\n",
    "        image_np = image_np.astype(float)\n",
    "        \n",
    "        # 计算 PSNR\n",
    "        mse = F.mse_loss(image, original_image)\n",
    "        psnr = 20 * torch.log10(1 / torch.sqrt(mse))\n",
    "        data_range = 1.0  # Adjust this if your images have a different valid range\n",
    "        ssim_index, _ = compare_ssim(original_image_np, image_np, full=True, data_range=data_range)\n",
    "        plt.imshow(image, cmap='gray')\n",
    "        plt.axis('off')\n",
    "        plt.show()\n",
    "        plt.imshow(original_image, cmap='gray')\n",
    "        plt.axis('off')\n",
    "        plt.show()\n",
    "        print(f\"PSNR: {psnr}, SSIM: {ssim_index}\")"
   ]
  },
  {
   "cell_type": "code",
   "execution_count": 8,
   "metadata": {},
   "outputs": [
    {
     "data": {
      "image/png": "[encoded data removed]",
      "text/plain": [
       "<Figure size 640x480 with 1 Axes>"
      ]
     },
     "metadata": {},
     "output_type": "display_data"
    },
    {
     "data": {
      "image/png": "[encoded data removed]",
      "text/plain": [
       "<Figure size 640x480 with 1 Axes>"
      ]
     },
     "metadata": {},
     "output_type": "display_data"
    },
    {
     "name": "stdout",
     "output_type": "stream",
     "text": [
      "PSNR: 32.0590934753418, SSIM: 0.9779254142034004\n"
     ]
    },
    {
     "data": {
      "image/png": "[encoded data removed]",
      "text/plain": [
       "<Figure size 640x480 with 1 Axes>"
      ]
     },
     "metadata": {},
     "output_type": "display_data"
    },
    {
     "data": {
      "image/png": "[encoded data removed]",
      "text/plain": [
       "<Figure size 640x480 with 1 Axes>"
      ]
     },
     "metadata": {},
     "output_type": "display_data"
    },
    {
     "name": "stdout",
     "output_type": "stream",
     "text": [
      "PSNR: 31.251113891601562, SSIM: 0.98386505302453\n"
     ]
    },
    {
     "data": {
      "image/png": "[encoded data removed]",
      "text/plain": [
       "<Figure size 640x480 with 1 Axes>"
      ]
     },
     "metadata": {},
     "output_type": "display_data"
    },
    {
     "data": {
      "image/png": "[encoded data removed]",
      "text/plain": [
       "<Figure size 640x480 with 1 Axes>"
      ]
     },
     "metadata": {},
     "output_type": "display_data"
    },
    {
     "name": "stdout",
     "output_type": "stream",
     "text": [
      "PSNR: 28.5791015625, SSIM: 0.9785804129487444\n"
     ]
    },
    {
     "data": {
      "image/png": "[encoded data removed]",
      "text/plain": [
       "<Figure size 640x480 with 1 Axes>"
      ]
     },
     "metadata": {},
     "output_type": "display_data"
    },
    {
     "data": {
      "image/png": "[encoded data removed]",
      "text/plain": [
       "<Figure size 640x480 with 1 Axes>"
      ]
     },
     "metadata": {},
     "output_type": "display_data"
    },
    {
     "name": "stdout",
     "output_type": "stream",
     "text": [
      "PSNR: 28.172225952148438, SSIM: 0.9869186739019024\n"
     ]
    },
    {
     "data": {
      "image/png": "[encoded data removed]",
      "text/plain": [
       "<Figure size 640x480 with 1 Axes>"
      ]
     },
     "metadata": {},
     "output_type": "display_data"
    },
    {
     "data": {
      "image/png": "[encoded data removed]",
      "text/plain": [
       "<Figure size 640x480 with 1 Axes>"
      ]
     },
     "metadata": {},
     "output_type": "display_data"
    },
    {
     "name": "stdout",
     "output_type": "stream",
     "text": [
      "PSNR: 29.442138671875, SSIM: 0.9857407987877911\n"
     ]
    },
    {
     "data": {
      "image/png": "[encoded data removed]",
      "text/plain": [
       "<Figure size 640x480 with 1 Axes>"
      ]
     },
     "metadata": {},
     "output_type": "display_data"
    },
    {
     "data": {
      "image/png": "[encoded data removed]",
      "text/plain": [
       "<Figure size 640x480 with 1 Axes>"
      ]
     },
     "metadata": {},
     "output_type": "display_data"
    },
    {
     "name": "stdout",
     "output_type": "stream",
     "text": [
      "PSNR: 28.964336395263672, SSIM: 0.9803879785339275\n"
     ]
    },
    {
     "data": {
      "image/png": "[encoded data removed]",
      "text/plain": [
       "<Figure size 640x480 with 1 Axes>"
      ]
     },
     "metadata": {},
     "output_type": "display_data"
    },
    {
     "data": {
      "image/png": "[encoded data removed]",
      "text/plain": [
       "<Figure size 640x480 with 1 Axes>"
      ]
     },
     "metadata": {},
     "output_type": "display_data"
    },
    {
     "name": "stdout",
     "output_type": "stream",
     "text": [
      "PSNR: 30.9035701751709, SSIM: 0.9859119374009765\n"
     ]
    },
    {
     "data": {
      "image/png": "[encoded data removed]",
      "text/plain": [
       "<Figure size 640x480 with 1 Axes>"
      ]
     },
     "metadata": {},
     "output_type": "display_data"
    },
    {
     "data": {
      "image/png": "[encoded data removed]",
      "text/plain": [
       "<Figure size 640x480 with 1 Axes>"
      ]
     },
     "metadata": {},
     "output_type": "display_data"
    },
    {
     "name": "stdout",
     "output_type": "stream",
     "text": [
      "PSNR: 29.464855194091797, SSIM: 0.9889104787864674\n"
     ]
    },
    {
     "data": {
      "image/png": "[encoded data removed]",
      "text/plain": [
       "<Figure size 640x480 with 1 Axes>"
      ]
     },
     "metadata": {},
     "output_type": "display_data"
    },
    {
     "data": {
      "image/png": "[encoded data removed]",
      "text/plain": [
       "<Figure size 640x480 with 1 Axes>"
      ]
     },
     "metadata": {},
     "output_type": "display_data"
    },
    {
     "name": "stdout",
     "output_type": "stream",
     "text": [
      "PSNR: 26.919536590576172, SSIM: 0.9808154954647277\n"
     ]
    },
    {
     "data": {
      "image/png": "[encoded data removed]",
      "text/plain": [
       "<Figure size 640x480 with 1 Axes>"
      ]
     },
     "metadata": {},
     "output_type": "display_data"
    },
    {
     "data": {
      "image/png": "[encoded data removed]",
      "text/plain": [
       "<Figure size 640x480 with 1 Axes>"
      ]
     },
     "metadata": {},
     "output_type": "display_data"
    },
    {
     "name": "stdout",
     "output_type": "stream",
     "text": [
      "PSNR: 30.77558135986328, SSIM: 0.9857845192970225\n"
     ]
    }
   ],
   "source": [
    "import matplotlib.pyplot as plt\n",
    "from skimage.metrics import structural_similarity as compare_ssim\n",
    "\n",
    "with torch.no_grad():\n",
    "    reconstructed_images = model(inputs[:10])\n",
    "    for i, image in enumerate(reconstructed_images):\n",
    "        image = image.view(28, 28).cpu()\n",
    "\n",
    "        original_image = goal[i].view(28, 28).cpu()\n",
    "        original_image_np = original_image.detach().cpu().numpy().squeeze()  # Convert to NumPy array\n",
    "        image_np = image.detach().cpu().numpy().squeeze()  # Convert to NumPy array\n",
    "\n",
    "        # Ensure the data type is float\n",
    "        original_image_np = original_image_np.astype(float)\n",
    "        image_np = image_np.astype(float)\n",
    "        \n",
    "        # 计算 PSNR\n",
    "        mse = F.mse_loss(image, original_image)\n",
    "        psnr = 20 * torch.log10(1 / torch.sqrt(mse))\n",
    "        data_range = 1.0  # Adjust this if your images have a different valid range\n",
    "        ssim_index, _ = compare_ssim(original_image_np, image_np, full=True, data_range=data_range)\n",
    "        plt.imshow(image, cmap='gray')\n",
    "        plt.axis('off')\n",
    "        plt.show()\n",
    "        plt.imshow(original_image, cmap='gray')\n",
    "        plt.axis('off')\n",
    "        plt.show()\n",
    "        print(f\"PSNR: {psnr}, SSIM: {ssim_index}\")\n",
    "        "
   ]
  },
  {
   "cell_type": "code",
   "execution_count": 9,
   "metadata": {},
   "outputs": [],
   "source": [
    "import pickle\n",
    "import os\n",
    "\n",
    "# Assuming 'model' is an instance of your PyTorch model\n",
    "# ...\n",
    "\n",
    "# Specify the path to the desktop and the filename\n",
    "desktop_path = os.path.join(os.path.expanduser(\"~\"), \"Desktop\")\n",
    "file_path = os.path.join(desktop_path, 'unet_model.pth')\n",
    "\n",
    "# Save the model state dictionary\n",
    "model_state_dict = model.state_dict()\n",
    "torch.save(model_state_dict, file_path)"
   ]
  }
 ],
 "metadata": {
  "kernelspec": {
   "display_name": "pytorch",
   "language": "python",
   "name": "python3"
  },
  "language_info": {
   "codemirror_mode": {
    "name": "ipython",
    "version": 3
   },
   "file_extension": ".py",
   "mimetype": "text/x-python",
   "name": "python",
   "nbconvert_exporter": "python",
   "pygments_lexer": "ipython3",
   "version": "3.11.4"
  }
 },
 "nbformat": 4,
 "nbformat_minor": 2
}
