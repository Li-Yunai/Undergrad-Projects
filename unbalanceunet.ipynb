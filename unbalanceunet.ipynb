{
 "cells": [
  {
   "cell_type": "code",
   "execution_count": 9,
   "metadata": {},
   "outputs": [
    {
     "name": "stdout",
     "output_type": "stream",
     "text": [
      "Before forward pass - GPU memory used: 0.076132864 GB\n"
     ]
    }
   ],
   "source": [
    "import torch\n",
    "import torch.nn as nn\n",
    "import torch.optim as optim\n",
    "import torchvision.transforms as transforms\n",
    "import torchvision.datasets as datasets\n",
    "import torch.nn.functional as F\n",
    "\n",
    "device = torch.device('cuda' if torch.cuda.is_available() else 'cpu')\n",
    "\n",
    "torch.cuda.empty_cache()\n",
    "class double_conv2d_bn(nn.Module):\n",
    "    def __init__(self, in_channels, out_channels, kernel_size=3, strides=1, padding=1):\n",
    "        super(double_conv2d_bn, self).__init__()\n",
    "        self.conv1 = nn.Conv2d(in_channels, out_channels, kernel_size=kernel_size, stride=strides, padding=padding, bias=True)\n",
    "        self.conv2 = nn.Conv2d(out_channels, out_channels, kernel_size=kernel_size, stride=strides, padding=padding, bias=True)\n",
    "        self.bn1 = nn.BatchNorm2d(out_channels)\n",
    "        self.bn2 = nn.BatchNorm2d(out_channels)\n",
    "\n",
    "    def forward(self, x):\n",
    "        out = F.relu(self.bn1(self.conv1(x)))\n",
    "        out = F.relu(self.bn2(self.conv2(out)))\n",
    "        return out\n",
    "\n",
    "class deconv2d_bn(nn.Module):\n",
    "    def __init__(self, in_channels, out_channels, kernel_size=2, strides=2):\n",
    "        super(deconv2d_bn, self).__init__()\n",
    "        self.conv1 = nn.ConvTranspose2d(in_channels, out_channels, kernel_size=kernel_size, stride=strides, bias=True)\n",
    "        # Example of adding padding to a convolutional layer\n",
    "\n",
    "        self.bn1 = nn.BatchNorm2d(out_channels)\n",
    "\n",
    "    def forward(self, x):\n",
    "        out = F.relu(self.bn1(self.conv1(x)))\n",
    "        return out\n",
    "\n",
    "class Unet(nn.Module):\n",
    "    def __init__(self, input_channels, output_channels):\n",
    "        super(Unet, self).__init__()\n",
    "        self.layer1_conv = double_conv2d_bn(input_channels, 8)\n",
    "        self.layer2_conv = double_conv2d_bn(8, 16)\n",
    "        self.layer3_conv = double_conv2d_bn(16, 32)\n",
    "        self.layer4_conv = double_conv2d_bn(32, 64)\n",
    "        self.layer5_conv = double_conv2d_bn(64, 128)\n",
    "        self.layer6_conv = double_conv2d_bn(128, 64)\n",
    "        self.layer7_conv = double_conv2d_bn(64, 32)\n",
    "        self.layer8_conv = double_conv2d_bn(32, 16)\n",
    "        self.layer9_conv = double_conv2d_bn(16, 8)\n",
    "        self.layer10_conv = nn.Conv2d(8, output_channels, kernel_size=3, stride=1, padding=1, bias=True)\n",
    "\n",
    "        self.deconv1 = deconv2d_bn(128, 64)\n",
    "        self.deconv2 = deconv2d_bn(64, 32)\n",
    "        self.deconv3 = deconv2d_bn(32, 16)\n",
    "        self.deconv4 = deconv2d_bn(16, 8)\n",
    "\n",
    "        self.sigmoid = nn.Sigmoid()\n",
    "        self.input_channels = input_channels  # Update input channels\n",
    "        self.output_channels = output_channels\n",
    "\n",
    "    def forward(self, x):\n",
    "        conv1 = self.layer1_conv(x)\n",
    "\n",
    "        pool1 = F.max_pool2d(conv1, 2)\n",
    "\n",
    "        conv2 = self.layer2_conv(pool1)\n",
    "        pool2 = F.max_pool2d(conv2, 2)\n",
    "\n",
    "        conv3 = self.layer3_conv(pool2)\n",
    "        pool3 = F.max_pool2d(conv3, 2)\n",
    "\n",
    "        conv4 = self.layer4_conv(pool3)\n",
    "       \n",
    "\n",
    "        pool4 = F.max_pool2d(conv4, 2)\n",
    "\n",
    "        conv5 = self.layer5_conv(pool4)\n",
    "\n",
    "        convt1 = self.deconv1(conv5)\n",
    "        convt1 = F.interpolate(convt1, size=(3, 3), mode='bilinear', align_corners=False)\n",
    "   \n",
    "        concat1 = torch.cat([convt1, conv4], dim=1)\n",
    "        conv6 = self.layer6_conv(concat1)\n",
    "\n",
    "        convt2 = self.deconv2(conv6)\n",
    "        convt2 = F.interpolate(convt2, size=(7, 7), mode='bilinear', align_corners=False)\n",
    "        concat2 = torch.cat([convt2, conv3], dim=1)\n",
    "\n",
    "        conv7 = self.layer7_conv(concat2)\n",
    "\n",
    "        convt3 = self.deconv3(conv7)\n",
    "        concat3 = torch.cat([convt3, conv2], dim=1)\n",
    "        conv8 = self.layer8_conv(concat3)\n",
    "\n",
    "        convt4 = self.deconv4(conv8)\n",
    "        concat4 = torch.cat([convt4, conv1], dim=1)\n",
    "        conv9 = self.layer9_conv(concat4)\n",
    "        outp = self.layer10_conv(conv9)\n",
    "        outp = self.sigmoid(outp)\n",
    "\n",
    "        return outp\n",
    "\n",
    "\n",
    "class NeuralNetwork(nn.Module):\n",
    "    def __init__(self):\n",
    "        super(NeuralNetwork, self).__init__()\n",
    "        self.fc1 = nn.Linear(100, 512)\n",
    "        self.fc2 = nn.Linear(512, 512)\n",
    "        self.fc3 = nn.Linear(512, 784)\n",
    "\n",
    "    def forward(self, x):\n",
    "        x = torch.relu(self.fc1(x))\n",
    "        x = torch.relu(self.fc2(x))\n",
    "        x = torch.relu(self.fc3(x))\n",
    "        return x\n",
    "\n",
    "\n",
    "\n",
    "class CombinedModel(nn.Module):\n",
    "    def __init__(self):\n",
    "        super(CombinedModel, self).__init__()\n",
    "        self.neural_network = NeuralNetwork()\n",
    "        self.unet = Unet(input_channels=1, output_channels=1)\n",
    "\n",
    "    def forward(self, x):\n",
    "        nn_output = self.neural_network(x)\n",
    "        # Ensure nn_output has one channel\n",
    "        nn_output = nn_output.unsqueeze(1)\n",
    "        # Reshape nn_output to match the expected input shape of the U-Net\n",
    "        # Inside CombinedModel's forward method\n",
    "        nn_output = nn_output.view(nn_output.size(0), 1, 28, 28)\n",
    "\n",
    "        unet_output = self.unet(nn_output)\n",
    "\n",
    "        unet_output_flat = unet_output.view(-1, 784)\n",
    "\n",
    "        return  unet_output_flat\n",
    "\n",
    "\n",
    "\n",
    "# 创建合并后的模型\n",
    "# Create an instance of CombinedModel\n",
    "combined_model = CombinedModel()\n",
    "\n",
    "# Move the model to the specified device\n",
    "model = combined_model.to(device)\n",
    "\n",
    "print(f\"Before forward pass - GPU memory used: {torch.cuda.memory_allocated() / 1e9} GB\")"
   ]
  },
  {
   "cell_type": "code",
   "execution_count": 10,
   "metadata": {},
   "outputs": [
    {
     "name": "stdout",
     "output_type": "stream",
     "text": [
      "Before forward pass - GPU memory used: 0.080126464 GB\n",
      "torch.Size([10000, 100])\n",
      "torch.Size([10000, 784])\n",
      "torch.Size([1000, 100])\n",
      "torch.Size([1000, 784])\n"
     ]
    }
   ],
   "source": [
    "import pickle\n",
    "import torch\n",
    "device = torch.device('cuda' if torch.cuda.is_available() else 'cpu')\n",
    "# 读取.pkl文件\n",
    "with open('unbalance2-train-spikecount.pkl', 'rb') as file:\n",
    "    input_data = pickle.load(file)\n",
    "\n",
    "# 转换为张量\n",
    "inputs = torch.tensor(input_data, dtype=torch.float32).to(device)\n",
    "print(f\"Before forward pass - GPU memory used: {torch.cuda.memory_allocated() / 1e9} GB\")\n",
    "\n",
    "with open('train-raw_image.pkl', 'rb') as file:\n",
    "    goal = pickle.load(file)\n",
    "\n",
    "with open('unbalance2-test-spikecount.pkl', 'rb') as file:\n",
    "    test_data = pickle.load(file)\n",
    "with open('test-raw_image.pkl', 'rb') as file:\n",
    "    test_goal = pickle.load(file)\n",
    "test_data = torch.tensor(test_data, dtype=torch.float32).to(device)\n",
    "\n",
    "goal = torch.tensor(goal, dtype=torch.float32).to(device)\n",
    "test_goal = torch.tensor(test_goal, dtype=torch.float32).to(device)\n",
    "goal=goal\n",
    "test_goal=test_goal\n",
    "\n",
    "\n",
    "print(inputs.shape)\n",
    "print(goal.shape)\n",
    "print(test_data.shape)\n",
    "print(test_goal.shape)\n"
   ]
  },
  {
   "cell_type": "code",
   "execution_count": 11,
   "metadata": {},
   "outputs": [
    {
     "name": "stdout",
     "output_type": "stream",
     "text": [
      "Before forward pass - GPU memory used: 0.115069952 GB\n"
     ]
    }
   ],
   "source": [
    "import torchvision\n",
    "from torchvision.datasets import MNIST\n",
    "from torchvision.transforms import ToTensor\n",
    "from torch.utils.data import DataLoader\n",
    "import tempfile\n",
    "import numpy as np\n",
    "print(f\"Before forward pass - GPU memory used: {torch.cuda.memory_allocated() / 1e9} GB\")"
   ]
  },
  {
   "cell_type": "code",
   "execution_count": 12,
   "metadata": {},
   "outputs": [
    {
     "name": "stdout",
     "output_type": "stream",
     "text": [
      "Before forward pass - GPU memory used: 0.115069952 GB\n"
     ]
    }
   ],
   "source": [
    "torch.cuda.empty_cache()\n",
    "print(f\"Before forward pass - GPU memory used: {torch.cuda.memory_allocated() / 1e9} GB\")"
   ]
  },
  {
   "cell_type": "code",
   "execution_count": 13,
   "metadata": {},
   "outputs": [
    {
     "name": "stdout",
     "output_type": "stream",
     "text": [
      "Before forward pass - GPU memory used: 0.115069952 GB\n",
      "Before forward pass - GPU memory used: 0.069430784 GB\n",
      "Epoch: 0, Loss: 0.07793470472097397\n",
      "Epoch: 1, Loss: 0.0384967103600502\n",
      "Epoch: 2, Loss: 0.03205345198512077\n",
      "Epoch: 3, Loss: 0.02437933161854744\n",
      "Epoch: 4, Loss: 0.023710841313004494\n",
      "Epoch: 5, Loss: 0.021176384761929512\n",
      "Epoch: 6, Loss: 0.015625089406967163\n",
      "Epoch: 7, Loss: 0.01764047145843506\n",
      "Epoch: 8, Loss: 0.013443232513964176\n",
      "Epoch: 9, Loss: 0.0160558819770813\n",
      "Epoch: 10, Loss: 0.013076450675725937\n",
      "Epoch: 11, Loss: 0.01506028976291418\n",
      "Epoch: 12, Loss: 0.014367850497364998\n",
      "Epoch: 13, Loss: 0.01449186634272337\n",
      "Epoch: 14, Loss: 0.013572094030678272\n",
      "Epoch: 15, Loss: 0.00994043331593275\n",
      "Epoch: 16, Loss: 0.0120428167283535\n",
      "Epoch: 17, Loss: 0.011545741930603981\n",
      "Epoch: 18, Loss: 0.012594370171427727\n",
      "Epoch: 19, Loss: 0.009750370867550373\n",
      "Epoch: 20, Loss: 0.010480598546564579\n",
      "Epoch: 21, Loss: 0.012863438576459885\n",
      "Epoch: 22, Loss: 0.010725327767431736\n",
      "Epoch: 23, Loss: 0.013889210298657417\n",
      "Epoch: 24, Loss: 0.011410781182348728\n",
      "Epoch: 25, Loss: 0.011485867202281952\n",
      "Epoch: 26, Loss: 0.009111791849136353\n",
      "Epoch: 27, Loss: 0.01065824180841446\n",
      "Epoch: 28, Loss: 0.010918792337179184\n",
      "Epoch: 29, Loss: 0.009012846276164055\n",
      "Epoch: 30, Loss: 0.008853749372065067\n",
      "Epoch: 31, Loss: 0.008174302987754345\n",
      "Epoch: 32, Loss: 0.007601667195558548\n",
      "Epoch: 33, Loss: 0.008670926094055176\n",
      "Epoch: 34, Loss: 0.0083452258259058\n",
      "Epoch: 35, Loss: 0.009217837825417519\n",
      "Epoch: 36, Loss: 0.007630980107933283\n",
      "Epoch: 37, Loss: 0.007565416861325502\n",
      "Epoch: 38, Loss: 0.00853390246629715\n",
      "Epoch: 39, Loss: 0.009493917226791382\n",
      "Epoch: 40, Loss: 0.008933579549193382\n",
      "Epoch: 41, Loss: 0.007974685169756413\n",
      "Epoch: 42, Loss: 0.006707249209284782\n",
      "Epoch: 43, Loss: 0.010347136296331882\n",
      "Epoch: 44, Loss: 0.009157826192677021\n",
      "Epoch: 45, Loss: 0.007913648150861263\n",
      "Epoch: 46, Loss: 0.010532311163842678\n",
      "Epoch: 47, Loss: 0.006819934584200382\n",
      "Epoch: 48, Loss: 0.007585512008517981\n",
      "Epoch: 49, Loss: 0.008636447601020336\n",
      "Epoch: 50, Loss: 0.009832700714468956\n",
      "Epoch: 51, Loss: 0.006652205251157284\n",
      "Epoch: 52, Loss: 0.006975594907999039\n",
      "Epoch: 53, Loss: 0.007249769754707813\n",
      "Epoch: 54, Loss: 0.004613046534359455\n",
      "Epoch: 55, Loss: 0.007750948891043663\n",
      "Epoch: 56, Loss: 0.006424215156584978\n",
      "Epoch: 57, Loss: 0.008528073318302631\n",
      "Epoch: 58, Loss: 0.0065521844662725925\n",
      "Epoch: 59, Loss: 0.007325704675167799\n",
      "Epoch: 60, Loss: 0.0050725569017231464\n",
      "Epoch: 61, Loss: 0.006186630576848984\n",
      "Epoch: 62, Loss: 0.007185108494013548\n",
      "Epoch: 63, Loss: 0.006088944151997566\n",
      "Epoch: 64, Loss: 0.006179618649184704\n",
      "Epoch: 65, Loss: 0.004970187786966562\n",
      "Epoch: 66, Loss: 0.006053769960999489\n",
      "Epoch: 67, Loss: 0.006469379179179668\n",
      "Epoch: 68, Loss: 0.010009181685745716\n",
      "Epoch: 69, Loss: 0.0061500538140535355\n",
      "Epoch: 70, Loss: 0.006117320619523525\n",
      "Epoch: 71, Loss: 0.0055630323477089405\n",
      "Epoch: 72, Loss: 0.006651195231825113\n",
      "Epoch: 73, Loss: 0.005551481619477272\n",
      "Epoch: 74, Loss: 0.008263603784143925\n",
      "Epoch: 75, Loss: 0.0060383835807442665\n",
      "Epoch: 76, Loss: 0.006008060649037361\n",
      "Epoch: 77, Loss: 0.005129295401275158\n",
      "Epoch: 78, Loss: 0.004853277001529932\n",
      "Epoch: 79, Loss: 0.005426352843642235\n",
      "Epoch: 80, Loss: 0.0053743524476885796\n",
      "Epoch: 81, Loss: 0.0075490702874958515\n",
      "Epoch: 82, Loss: 0.005741104483604431\n",
      "Epoch: 83, Loss: 0.0047858646139502525\n",
      "Epoch: 84, Loss: 0.00632428377866745\n",
      "Epoch: 85, Loss: 0.006133680231869221\n",
      "Epoch: 86, Loss: 0.006143268197774887\n",
      "Epoch: 87, Loss: 0.005229727365076542\n",
      "Epoch: 88, Loss: 0.005373369436711073\n",
      "Epoch: 89, Loss: 0.005092264153063297\n",
      "Epoch: 90, Loss: 0.004712182097136974\n",
      "Epoch: 91, Loss: 0.004159996751695871\n",
      "Epoch: 92, Loss: 0.005120522808283567\n",
      "Epoch: 93, Loss: 0.0047821467742323875\n",
      "Epoch: 94, Loss: 0.004639793187379837\n",
      "Epoch: 95, Loss: 0.004707361571490765\n",
      "Epoch: 96, Loss: 0.005375988315790892\n",
      "Epoch: 97, Loss: 0.005625504069030285\n",
      "Epoch: 98, Loss: 0.004311681725084782\n",
      "Epoch: 99, Loss: 0.005197872873395681\n",
      "Epoch: 100, Loss: 0.00437518022954464\n",
      "Epoch: 101, Loss: 0.004893854260444641\n",
      "Epoch: 102, Loss: 0.005187850911170244\n",
      "Epoch: 103, Loss: 0.003948449622839689\n",
      "Epoch: 104, Loss: 0.005466089583933353\n",
      "Epoch: 105, Loss: 0.005597835406661034\n",
      "Epoch: 106, Loss: 0.00424944655969739\n",
      "Epoch: 107, Loss: 0.00451281713321805\n",
      "Epoch: 108, Loss: 0.004507225472480059\n",
      "Epoch: 109, Loss: 0.004301585257053375\n",
      "Epoch: 110, Loss: 0.004537540953606367\n",
      "Epoch: 111, Loss: 0.005991312675178051\n",
      "Epoch: 112, Loss: 0.003796628210693598\n",
      "Epoch: 113, Loss: 0.003748157760128379\n",
      "Epoch: 114, Loss: 0.0049054487608373165\n",
      "Epoch: 115, Loss: 0.004864457994699478\n",
      "Epoch: 116, Loss: 0.004487218800932169\n",
      "Epoch: 117, Loss: 0.003619719995185733\n",
      "Epoch: 118, Loss: 0.004879383835941553\n",
      "Epoch: 119, Loss: 0.00379755487665534\n",
      "Epoch: 120, Loss: 0.0036921463906764984\n",
      "Epoch: 121, Loss: 0.003625654149800539\n",
      "Epoch: 122, Loss: 0.00601395545527339\n",
      "Epoch: 123, Loss: 0.0034787992481142282\n",
      "Epoch: 124, Loss: 0.0033540227450430393\n",
      "Epoch: 125, Loss: 0.004437937401235104\n",
      "Epoch: 126, Loss: 0.004536052234470844\n",
      "Epoch: 127, Loss: 0.010447577573359013\n",
      "Epoch: 128, Loss: 0.005891827866435051\n",
      "Epoch: 129, Loss: 0.004037508275359869\n",
      "Epoch: 130, Loss: 0.005221444647759199\n",
      "Epoch: 131, Loss: 0.00396479107439518\n",
      "Epoch: 132, Loss: 0.004498706664890051\n",
      "Epoch: 133, Loss: 0.003493433352559805\n",
      "Epoch: 134, Loss: 0.005595201626420021\n",
      "Epoch: 135, Loss: 0.005397065542638302\n",
      "Epoch: 136, Loss: 0.0035296056885272264\n",
      "Epoch: 137, Loss: 0.005402046255767345\n",
      "Epoch: 138, Loss: 0.004662625957280397\n",
      "Epoch: 139, Loss: 0.005131658632308245\n",
      "Epoch: 140, Loss: 0.003962458577007055\n",
      "Epoch: 141, Loss: 0.0055125681683421135\n",
      "Epoch: 142, Loss: 0.004074565600603819\n",
      "Epoch: 143, Loss: 0.003720763372257352\n",
      "Epoch: 144, Loss: 0.004916062578558922\n",
      "Epoch: 145, Loss: 0.004603122361004353\n",
      "Epoch: 146, Loss: 0.003982913680374622\n",
      "Epoch: 147, Loss: 0.0036392800975590944\n",
      "Epoch: 148, Loss: 0.0049811010248959064\n",
      "Epoch: 149, Loss: 0.003656834363937378\n",
      "Epoch: 150, Loss: 0.004030635580420494\n",
      "Epoch: 151, Loss: 0.005403606221079826\n",
      "Epoch: 152, Loss: 0.003142891451716423\n",
      "Epoch: 153, Loss: 0.0032106677535921335\n",
      "Epoch: 154, Loss: 0.00429913867264986\n",
      "Epoch: 155, Loss: 0.003994483035057783\n",
      "Epoch: 156, Loss: 0.003300774609670043\n",
      "Epoch: 157, Loss: 0.003374063177034259\n",
      "Epoch: 158, Loss: 0.003572101006284356\n",
      "Epoch: 159, Loss: 0.003523782826960087\n",
      "Epoch: 160, Loss: 0.004169994965195656\n",
      "Epoch: 161, Loss: 0.0038299800362437963\n",
      "Epoch: 162, Loss: 0.004579737316817045\n",
      "Epoch: 163, Loss: 0.003935770597308874\n",
      "Epoch: 164, Loss: 0.0031181038357317448\n",
      "Epoch: 165, Loss: 0.003410179866477847\n",
      "Epoch: 166, Loss: 0.0057226261124014854\n",
      "Epoch: 167, Loss: 0.003405387746170163\n",
      "Epoch: 168, Loss: 0.0034076536539942026\n",
      "Epoch: 169, Loss: 0.003986344672739506\n",
      "Epoch: 170, Loss: 0.003399759531021118\n",
      "Epoch: 171, Loss: 0.003250119276344776\n",
      "Epoch: 172, Loss: 0.004013528116047382\n",
      "Epoch: 173, Loss: 0.003565846011042595\n",
      "Epoch: 174, Loss: 0.0037487302906811237\n",
      "Epoch: 175, Loss: 0.0043911924585700035\n",
      "Epoch: 176, Loss: 0.004109255038201809\n",
      "Epoch: 177, Loss: 0.003173304721713066\n",
      "Epoch: 178, Loss: 0.005313053261488676\n",
      "Epoch: 179, Loss: 0.006358544807881117\n",
      "Epoch: 180, Loss: 0.0038814994040876627\n",
      "Epoch: 181, Loss: 0.0044828918762505054\n",
      "Epoch: 182, Loss: 0.003703749505802989\n",
      "Epoch: 183, Loss: 0.004984268452972174\n",
      "Epoch: 184, Loss: 0.0031918822787702084\n",
      "Epoch: 185, Loss: 0.0025619419757276773\n",
      "Epoch: 186, Loss: 0.0032631256617605686\n",
      "Epoch: 187, Loss: 0.007258473429828882\n",
      "Epoch: 188, Loss: 0.002705660881474614\n",
      "Epoch: 189, Loss: 0.004411018453538418\n",
      "Epoch: 190, Loss: 0.003683770075440407\n",
      "Epoch: 191, Loss: 0.003427105722948909\n",
      "Epoch: 192, Loss: 0.003522589337080717\n",
      "Epoch: 193, Loss: 0.003747993614524603\n",
      "Epoch: 194, Loss: 0.004240119829773903\n",
      "Epoch: 195, Loss: 0.003157965838909149\n",
      "Epoch: 196, Loss: 0.0038660112768411636\n",
      "Epoch: 197, Loss: 0.004590337164700031\n",
      "Epoch: 198, Loss: 0.0033571983221918344\n",
      "Epoch: 199, Loss: 0.0031704215798527002\n",
      "Epoch: 200, Loss: 0.002815766492858529\n",
      "Epoch: 201, Loss: 0.003610772080719471\n",
      "Epoch: 202, Loss: 0.0026729607488960028\n",
      "Epoch: 203, Loss: 0.0032201067078858614\n",
      "Epoch: 204, Loss: 0.002916023600846529\n",
      "Epoch: 205, Loss: 0.003926442936062813\n",
      "Epoch: 206, Loss: 0.0030565515626221895\n",
      "Epoch: 207, Loss: 0.0032976700458675623\n",
      "Epoch: 208, Loss: 0.004937996622174978\n",
      "Epoch: 209, Loss: 0.0034252330660820007\n",
      "Epoch: 210, Loss: 0.0026592921931296587\n",
      "Epoch: 211, Loss: 0.003148164600133896\n",
      "Epoch: 212, Loss: 0.0032459984067827463\n",
      "Epoch: 213, Loss: 0.004535747226327658\n",
      "Epoch: 214, Loss: 0.003094952553510666\n",
      "Epoch: 215, Loss: 0.0038757266011089087\n",
      "Epoch: 216, Loss: 0.0030967032071202993\n",
      "Epoch: 217, Loss: 0.0037920824252068996\n",
      "Epoch: 218, Loss: 0.002887019654735923\n",
      "Epoch: 219, Loss: 0.0027589770033955574\n",
      "Epoch: 220, Loss: 0.0033530225045979023\n",
      "Epoch: 221, Loss: 0.004957728087902069\n",
      "Epoch: 222, Loss: 0.00333307939581573\n",
      "Epoch: 223, Loss: 0.002839654916897416\n",
      "Epoch: 224, Loss: 0.0033206890802830458\n",
      "Epoch: 225, Loss: 0.0032610695343464613\n",
      "Epoch: 226, Loss: 0.00442936597391963\n",
      "Epoch: 227, Loss: 0.0026733819395303726\n",
      "Epoch: 228, Loss: 0.002652362920343876\n",
      "Epoch: 229, Loss: 0.003999757580459118\n",
      "Epoch: 230, Loss: 0.002941423561424017\n",
      "Epoch: 231, Loss: 0.002949122106656432\n",
      "Epoch: 232, Loss: 0.003562303725630045\n",
      "Epoch: 233, Loss: 0.0033600900787860155\n",
      "Epoch: 234, Loss: 0.0025333845987915993\n",
      "Epoch: 235, Loss: 0.0031127133406698704\n",
      "Epoch: 236, Loss: 0.0025985450483858585\n",
      "Epoch: 237, Loss: 0.0033984153997153044\n",
      "Epoch: 238, Loss: 0.002496358472853899\n",
      "Epoch: 239, Loss: 0.002970804227516055\n",
      "Epoch: 240, Loss: 0.0028334660455584526\n",
      "Epoch: 241, Loss: 0.0026643420569598675\n",
      "Epoch: 242, Loss: 0.003255080431699753\n",
      "Epoch: 243, Loss: 0.0029349266551434994\n",
      "Epoch: 244, Loss: 0.002490657614544034\n",
      "Epoch: 245, Loss: 0.003305288264527917\n",
      "Epoch: 246, Loss: 0.0032507602591067553\n",
      "Epoch: 247, Loss: 0.003191626165062189\n",
      "Epoch: 248, Loss: 0.0029483644757419825\n",
      "Epoch: 249, Loss: 0.002902971813455224\n",
      "Epoch: 250, Loss: 0.0026507049333304167\n",
      "Epoch: 251, Loss: 0.0035150288604199886\n",
      "Epoch: 252, Loss: 0.0029942337423563004\n",
      "Epoch: 253, Loss: 0.0028136640321463346\n",
      "Epoch: 254, Loss: 0.002651709131896496\n",
      "Epoch: 255, Loss: 0.002570654032751918\n",
      "Epoch: 256, Loss: 0.0019229130120947957\n",
      "Epoch: 257, Loss: 0.0038230610080063343\n",
      "Epoch: 258, Loss: 0.0029298109002411366\n",
      "Epoch: 259, Loss: 0.002795139094814658\n",
      "Epoch: 260, Loss: 0.0033733989112079144\n",
      "Epoch: 261, Loss: 0.003326642094179988\n",
      "Epoch: 262, Loss: 0.002956251846626401\n",
      "Epoch: 263, Loss: 0.0020801634527742863\n",
      "Epoch: 264, Loss: 0.002298114588484168\n",
      "Epoch: 265, Loss: 0.002938296878710389\n",
      "Epoch: 266, Loss: 0.002689055632799864\n",
      "Epoch: 267, Loss: 0.002571438904851675\n",
      "Epoch: 268, Loss: 0.003058416536077857\n",
      "Epoch: 269, Loss: 0.0027830125764012337\n",
      "Epoch: 270, Loss: 0.002127825515344739\n",
      "Epoch: 271, Loss: 0.00245994352735579\n",
      "Epoch: 272, Loss: 0.0028422120958566666\n",
      "Epoch: 273, Loss: 0.002518440131098032\n",
      "Epoch: 274, Loss: 0.003106019226834178\n",
      "Epoch: 275, Loss: 0.003934552893042564\n",
      "Epoch: 276, Loss: 0.002554225269705057\n",
      "Epoch: 277, Loss: 0.0036715054884552956\n",
      "Epoch: 278, Loss: 0.002653340343385935\n",
      "Epoch: 279, Loss: 0.0021764272823929787\n",
      "Epoch: 280, Loss: 0.002756991423666477\n",
      "Epoch: 281, Loss: 0.005222226958721876\n",
      "Epoch: 282, Loss: 0.003679257584735751\n",
      "Epoch: 283, Loss: 0.0024857004173099995\n",
      "Epoch: 284, Loss: 0.003405699273571372\n",
      "Epoch: 285, Loss: 0.0027511301450431347\n",
      "Epoch: 286, Loss: 0.002702827798202634\n",
      "Epoch: 287, Loss: 0.0022299974225461483\n",
      "Epoch: 288, Loss: 0.0020795422606170177\n",
      "Epoch: 289, Loss: 0.0025878341402858496\n",
      "Epoch: 290, Loss: 0.0026553808711469173\n",
      "Epoch: 291, Loss: 0.0023754958529025316\n",
      "Epoch: 292, Loss: 0.0026084824930876493\n",
      "Epoch: 293, Loss: 0.0040533896535634995\n",
      "Epoch: 294, Loss: 0.0030526691116392612\n",
      "Epoch: 295, Loss: 0.002666675252839923\n",
      "Epoch: 296, Loss: 0.0038254184182733297\n",
      "Epoch: 297, Loss: 0.00196012482047081\n",
      "Epoch: 298, Loss: 0.0022071595303714275\n",
      "Epoch: 299, Loss: 0.005324262659996748\n",
      "Epoch: 300, Loss: 0.0030030999332666397\n",
      "Epoch: 301, Loss: 0.002421123208478093\n",
      "Epoch: 302, Loss: 0.002611742587760091\n",
      "Epoch: 303, Loss: 0.0030120136216282845\n",
      "Epoch: 304, Loss: 0.0025305806193500757\n",
      "Epoch: 305, Loss: 0.0025799614377319813\n",
      "Epoch: 306, Loss: 0.002696869196370244\n",
      "Epoch: 307, Loss: 0.0024162407498806715\n",
      "Epoch: 308, Loss: 0.0029425497632473707\n",
      "Epoch: 309, Loss: 0.002160149859264493\n",
      "Epoch: 310, Loss: 0.003244312945753336\n",
      "Epoch: 311, Loss: 0.003364239353686571\n",
      "Epoch: 312, Loss: 0.0025634688790887594\n",
      "Epoch: 313, Loss: 0.002501910785213113\n",
      "Epoch: 314, Loss: 0.0029818634502589703\n",
      "Epoch: 315, Loss: 0.003072124905884266\n",
      "Epoch: 316, Loss: 0.002490106038749218\n",
      "Epoch: 317, Loss: 0.0032270834781229496\n",
      "Epoch: 318, Loss: 0.003891480853781104\n",
      "Epoch: 319, Loss: 0.002261021640151739\n",
      "Epoch: 320, Loss: 0.002801725408062339\n",
      "Epoch: 321, Loss: 0.002595233730971813\n",
      "Epoch: 322, Loss: 0.004936316050589085\n",
      "Epoch: 323, Loss: 0.003874481189996004\n",
      "Epoch: 324, Loss: 0.002669572364538908\n",
      "Epoch: 325, Loss: 0.003418794833123684\n",
      "Epoch: 326, Loss: 0.0025385641492903233\n",
      "Epoch: 327, Loss: 0.002644226187840104\n",
      "Epoch: 328, Loss: 0.004449994303286076\n",
      "Epoch: 329, Loss: 0.002681236481294036\n",
      "Epoch: 330, Loss: 0.002814750885590911\n",
      "Epoch: 331, Loss: 0.003261844627559185\n",
      "Epoch: 332, Loss: 0.003097356529906392\n",
      "Epoch: 333, Loss: 0.0022184543777257204\n",
      "Epoch: 334, Loss: 0.002664292696863413\n",
      "Epoch: 335, Loss: 0.002428200328722596\n",
      "Epoch: 336, Loss: 0.002344525186344981\n",
      "Epoch: 337, Loss: 0.0023540183901786804\n",
      "Epoch: 338, Loss: 0.002687907312065363\n",
      "Epoch: 339, Loss: 0.0023629211355000734\n",
      "Epoch: 340, Loss: 0.0025917261373251677\n",
      "Epoch: 341, Loss: 0.002642143052071333\n",
      "Epoch: 342, Loss: 0.0024356255307793617\n",
      "Epoch: 343, Loss: 0.002664178842678666\n",
      "Epoch: 344, Loss: 0.002209261292591691\n",
      "Epoch: 345, Loss: 0.0027381880208849907\n",
      "Epoch: 346, Loss: 0.0021000613924115896\n",
      "Epoch: 347, Loss: 0.002995615592226386\n",
      "Epoch: 348, Loss: 0.002757635898888111\n",
      "Epoch: 349, Loss: 0.002431347267702222\n",
      "Epoch: 350, Loss: 0.0026303925551474094\n",
      "Epoch: 351, Loss: 0.0022537459153681993\n",
      "Epoch: 352, Loss: 0.002841742243617773\n",
      "Epoch: 353, Loss: 0.005394876003265381\n",
      "Epoch: 354, Loss: 0.002620057202875614\n",
      "Epoch: 355, Loss: 0.0025379317812621593\n",
      "Epoch: 356, Loss: 0.0026942952536046505\n",
      "Epoch: 357, Loss: 0.002289501717314124\n",
      "Epoch: 358, Loss: 0.004021096508949995\n",
      "Epoch: 359, Loss: 0.0019633371848613024\n",
      "Epoch: 360, Loss: 0.002993381582200527\n",
      "Epoch: 361, Loss: 0.003129576565697789\n",
      "Epoch: 362, Loss: 0.0025178813375532627\n",
      "Epoch: 363, Loss: 0.002566105220466852\n",
      "Epoch: 364, Loss: 0.002004006877541542\n",
      "Epoch: 365, Loss: 0.002172562526538968\n",
      "Epoch: 366, Loss: 0.0022138019558042288\n",
      "Epoch: 367, Loss: 0.0024710779543966055\n",
      "Epoch: 368, Loss: 0.0035880161449313164\n",
      "Epoch: 369, Loss: 0.002239606808871031\n",
      "Epoch: 370, Loss: 0.004158633761107922\n",
      "Epoch: 371, Loss: 0.002687957836315036\n",
      "Epoch: 372, Loss: 0.0025780429132282734\n",
      "Epoch: 373, Loss: 0.0029641310684382915\n",
      "Epoch: 374, Loss: 0.0024140658788383007\n",
      "Epoch: 375, Loss: 0.0039037875831127167\n",
      "Epoch: 376, Loss: 0.002136827912181616\n",
      "Epoch: 377, Loss: 0.00185162085108459\n",
      "Epoch: 378, Loss: 0.002194847445935011\n",
      "Epoch: 379, Loss: 0.0028099885676056147\n",
      "Epoch: 380, Loss: 0.0027504395693540573\n",
      "Epoch: 381, Loss: 0.002316281432285905\n",
      "Epoch: 382, Loss: 0.0022741376888006926\n",
      "Epoch: 383, Loss: 0.002416616538539529\n",
      "Epoch: 384, Loss: 0.003070550737902522\n",
      "Epoch: 385, Loss: 0.0037795030511915684\n",
      "Epoch: 386, Loss: 0.0020525911822915077\n",
      "Epoch: 387, Loss: 0.002332036616280675\n",
      "Epoch: 388, Loss: 0.003490091534331441\n",
      "Epoch: 389, Loss: 0.002953520743176341\n",
      "Epoch: 390, Loss: 0.0031963130459189415\n",
      "Epoch: 391, Loss: 0.003084020223468542\n",
      "Epoch: 392, Loss: 0.002422393299639225\n",
      "Epoch: 393, Loss: 0.0027384061831980944\n",
      "Epoch: 394, Loss: 0.0030273718293756247\n",
      "Epoch: 395, Loss: 0.0025273747742176056\n",
      "Epoch: 396, Loss: 0.00247973226942122\n",
      "Epoch: 397, Loss: 0.0018647275865077972\n",
      "Epoch: 398, Loss: 0.00265287677757442\n",
      "Epoch: 399, Loss: 0.002082039136439562\n",
      "Epoch: 400, Loss: 0.003136778948828578\n",
      "Epoch: 401, Loss: 0.0022263030987232924\n",
      "Epoch: 402, Loss: 0.002401544712483883\n",
      "Epoch: 403, Loss: 0.0017277977894991636\n",
      "Epoch: 404, Loss: 0.0021014802623540163\n",
      "Epoch: 405, Loss: 0.0019936144817620516\n",
      "Epoch: 406, Loss: 0.0026276232674717903\n",
      "Epoch: 407, Loss: 0.0022917671594768763\n",
      "Epoch: 408, Loss: 0.0022480664774775505\n",
      "Epoch: 409, Loss: 0.0022964051458984613\n",
      "Epoch: 410, Loss: 0.003222447820007801\n",
      "Epoch: 411, Loss: 0.002075847005471587\n",
      "Epoch: 412, Loss: 0.0026940854731947184\n",
      "Epoch: 413, Loss: 0.0026394713204354048\n",
      "Epoch: 414, Loss: 0.0031056436710059643\n",
      "Epoch: 415, Loss: 0.0027254740707576275\n",
      "Epoch: 416, Loss: 0.0016416913131251931\n",
      "Epoch: 417, Loss: 0.0025186033453792334\n",
      "Epoch: 418, Loss: 0.002585800364613533\n",
      "Epoch: 419, Loss: 0.0024371908511966467\n",
      "Epoch: 420, Loss: 0.003690635785460472\n",
      "Epoch: 421, Loss: 0.00321328267455101\n",
      "Epoch: 422, Loss: 0.002615989651530981\n",
      "Epoch: 423, Loss: 0.002493208972737193\n",
      "Epoch: 424, Loss: 0.002184251556172967\n",
      "Epoch: 425, Loss: 0.0026513526681810617\n",
      "Epoch: 426, Loss: 0.0021500953007489443\n",
      "Epoch: 427, Loss: 0.00225664465688169\n",
      "Epoch: 428, Loss: 0.0018608525861054659\n",
      "Epoch: 429, Loss: 0.001907484489493072\n",
      "Epoch: 430, Loss: 0.0031875583808869123\n",
      "Epoch: 431, Loss: 0.0019435799913480878\n",
      "Epoch: 432, Loss: 0.004230125807225704\n",
      "Epoch: 433, Loss: 0.0023768236860632896\n",
      "Epoch: 434, Loss: 0.0029055210761725903\n",
      "Epoch: 435, Loss: 0.0027087789494544268\n",
      "Epoch: 436, Loss: 0.0023475722409784794\n",
      "Epoch: 437, Loss: 0.0023138662800192833\n",
      "Epoch: 438, Loss: 0.00236923317424953\n",
      "Epoch: 439, Loss: 0.0023505049757659435\n",
      "Epoch: 440, Loss: 0.002556947059929371\n",
      "Epoch: 441, Loss: 0.0018991341348737478\n",
      "Epoch: 442, Loss: 0.002604433335363865\n",
      "Epoch: 443, Loss: 0.0022044270299375057\n",
      "Epoch: 444, Loss: 0.003274272894486785\n",
      "Epoch: 445, Loss: 0.0021900974679738283\n",
      "Epoch: 446, Loss: 0.0021398980170488358\n",
      "Epoch: 447, Loss: 0.002326300833374262\n",
      "Epoch: 448, Loss: 0.001941935857757926\n",
      "Epoch: 449, Loss: 0.0022350067738443613\n",
      "Epoch: 450, Loss: 0.0026431255973875523\n",
      "Epoch: 451, Loss: 0.001967189135029912\n",
      "Epoch: 452, Loss: 0.002952491631731391\n",
      "Epoch: 453, Loss: 0.0018570609390735626\n",
      "Epoch: 454, Loss: 0.0022105728276073933\n",
      "Epoch: 455, Loss: 0.0026976391673088074\n",
      "Epoch: 456, Loss: 0.00247228448279202\n",
      "Epoch: 457, Loss: 0.00233571813441813\n",
      "Epoch: 458, Loss: 0.0018280490767210722\n",
      "Epoch: 459, Loss: 0.002069840906187892\n",
      "Epoch: 460, Loss: 0.0022997844498604536\n",
      "Epoch: 461, Loss: 0.0021891428623348475\n",
      "Epoch: 462, Loss: 0.0023554472718387842\n",
      "Epoch: 463, Loss: 0.00221242755651474\n",
      "Epoch: 464, Loss: 0.0021890788339078426\n",
      "Epoch: 465, Loss: 0.0019386480562388897\n",
      "Epoch: 466, Loss: 0.0024016504175961018\n",
      "Epoch: 467, Loss: 0.002021973254159093\n",
      "Epoch: 468, Loss: 0.0024270617868751287\n",
      "Epoch: 469, Loss: 0.00405342411249876\n",
      "Epoch: 470, Loss: 0.0022814336698502302\n",
      "Epoch: 471, Loss: 0.00214782590046525\n",
      "Epoch: 472, Loss: 0.0029214643873274326\n",
      "Epoch: 473, Loss: 0.002073831157758832\n",
      "Epoch: 474, Loss: 0.00335716106928885\n",
      "Epoch: 475, Loss: 0.0020625581964850426\n",
      "Epoch: 476, Loss: 0.0020811036229133606\n",
      "Epoch: 477, Loss: 0.0022966293618083\n",
      "Epoch: 478, Loss: 0.0020814905874431133\n",
      "Epoch: 479, Loss: 0.002253372687846422\n",
      "Epoch: 480, Loss: 0.0023752970155328512\n",
      "Epoch: 481, Loss: 0.002055449178442359\n",
      "Epoch: 482, Loss: 0.0016720774583518505\n",
      "Epoch: 483, Loss: 0.002502921735867858\n",
      "Epoch: 484, Loss: 0.002364941406995058\n",
      "Epoch: 485, Loss: 0.0020174148958176374\n",
      "Epoch: 486, Loss: 0.0020184714812785387\n",
      "Epoch: 487, Loss: 0.0020082134287804365\n",
      "Epoch: 488, Loss: 0.0021126202773302794\n",
      "Epoch: 489, Loss: 0.004877245519310236\n",
      "Epoch: 490, Loss: 0.002320915926247835\n",
      "Epoch: 491, Loss: 0.0021281042136251926\n",
      "Epoch: 492, Loss: 0.004095727577805519\n",
      "Epoch: 493, Loss: 0.0020871225278824568\n",
      "Epoch: 494, Loss: 0.0020153005607426167\n",
      "Epoch: 495, Loss: 0.002238265471532941\n",
      "Epoch: 496, Loss: 0.0024217909667640924\n",
      "Epoch: 497, Loss: 0.0018388876924291253\n",
      "Epoch: 498, Loss: 0.0038368096575140953\n",
      "Epoch: 499, Loss: 0.0021967997308820486\n"
     ]
    },
    {
     "data": {
      "text/plain": [
       "CombinedModel(\n",
       "  (neural_network): NeuralNetwork(\n",
       "    (fc1): Linear(in_features=100, out_features=512, bias=True)\n",
       "    (fc2): Linear(in_features=512, out_features=512, bias=True)\n",
       "    (fc3): Linear(in_features=512, out_features=784, bias=True)\n",
       "  )\n",
       "  (unet): Unet(\n",
       "    (layer1_conv): double_conv2d_bn(\n",
       "      (conv1): Conv2d(1, 8, kernel_size=(3, 3), stride=(1, 1), padding=(1, 1))\n",
       "      (conv2): Conv2d(8, 8, kernel_size=(3, 3), stride=(1, 1), padding=(1, 1))\n",
       "      (bn1): BatchNorm2d(8, eps=1e-05, momentum=0.1, affine=True, track_running_stats=True)\n",
       "      (bn2): BatchNorm2d(8, eps=1e-05, momentum=0.1, affine=True, track_running_stats=True)\n",
       "    )\n",
       "    (layer2_conv): double_conv2d_bn(\n",
       "      (conv1): Conv2d(8, 16, kernel_size=(3, 3), stride=(1, 1), padding=(1, 1))\n",
       "      (conv2): Conv2d(16, 16, kernel_size=(3, 3), stride=(1, 1), padding=(1, 1))\n",
       "      (bn1): BatchNorm2d(16, eps=1e-05, momentum=0.1, affine=True, track_running_stats=True)\n",
       "      (bn2): BatchNorm2d(16, eps=1e-05, momentum=0.1, affine=True, track_running_stats=True)\n",
       "    )\n",
       "    (layer3_conv): double_conv2d_bn(\n",
       "      (conv1): Conv2d(16, 32, kernel_size=(3, 3), stride=(1, 1), padding=(1, 1))\n",
       "      (conv2): Conv2d(32, 32, kernel_size=(3, 3), stride=(1, 1), padding=(1, 1))\n",
       "      (bn1): BatchNorm2d(32, eps=1e-05, momentum=0.1, affine=True, track_running_stats=True)\n",
       "      (bn2): BatchNorm2d(32, eps=1e-05, momentum=0.1, affine=True, track_running_stats=True)\n",
       "    )\n",
       "    (layer4_conv): double_conv2d_bn(\n",
       "      (conv1): Conv2d(32, 64, kernel_size=(3, 3), stride=(1, 1), padding=(1, 1))\n",
       "      (conv2): Conv2d(64, 64, kernel_size=(3, 3), stride=(1, 1), padding=(1, 1))\n",
       "      (bn1): BatchNorm2d(64, eps=1e-05, momentum=0.1, affine=True, track_running_stats=True)\n",
       "      (bn2): BatchNorm2d(64, eps=1e-05, momentum=0.1, affine=True, track_running_stats=True)\n",
       "    )\n",
       "    (layer5_conv): double_conv2d_bn(\n",
       "      (conv1): Conv2d(64, 128, kernel_size=(3, 3), stride=(1, 1), padding=(1, 1))\n",
       "      (conv2): Conv2d(128, 128, kernel_size=(3, 3), stride=(1, 1), padding=(1, 1))\n",
       "      (bn1): BatchNorm2d(128, eps=1e-05, momentum=0.1, affine=True, track_running_stats=True)\n",
       "      (bn2): BatchNorm2d(128, eps=1e-05, momentum=0.1, affine=True, track_running_stats=True)\n",
       "    )\n",
       "    (layer6_conv): double_conv2d_bn(\n",
       "      (conv1): Conv2d(128, 64, kernel_size=(3, 3), stride=(1, 1), padding=(1, 1))\n",
       "      (conv2): Conv2d(64, 64, kernel_size=(3, 3), stride=(1, 1), padding=(1, 1))\n",
       "      (bn1): BatchNorm2d(64, eps=1e-05, momentum=0.1, affine=True, track_running_stats=True)\n",
       "      (bn2): BatchNorm2d(64, eps=1e-05, momentum=0.1, affine=True, track_running_stats=True)\n",
       "    )\n",
       "    (layer7_conv): double_conv2d_bn(\n",
       "      (conv1): Conv2d(64, 32, kernel_size=(3, 3), stride=(1, 1), padding=(1, 1))\n",
       "      (conv2): Conv2d(32, 32, kernel_size=(3, 3), stride=(1, 1), padding=(1, 1))\n",
       "      (bn1): BatchNorm2d(32, eps=1e-05, momentum=0.1, affine=True, track_running_stats=True)\n",
       "      (bn2): BatchNorm2d(32, eps=1e-05, momentum=0.1, affine=True, track_running_stats=True)\n",
       "    )\n",
       "    (layer8_conv): double_conv2d_bn(\n",
       "      (conv1): Conv2d(32, 16, kernel_size=(3, 3), stride=(1, 1), padding=(1, 1))\n",
       "      (conv2): Conv2d(16, 16, kernel_size=(3, 3), stride=(1, 1), padding=(1, 1))\n",
       "      (bn1): BatchNorm2d(16, eps=1e-05, momentum=0.1, affine=True, track_running_stats=True)\n",
       "      (bn2): BatchNorm2d(16, eps=1e-05, momentum=0.1, affine=True, track_running_stats=True)\n",
       "    )\n",
       "    (layer9_conv): double_conv2d_bn(\n",
       "      (conv1): Conv2d(16, 8, kernel_size=(3, 3), stride=(1, 1), padding=(1, 1))\n",
       "      (conv2): Conv2d(8, 8, kernel_size=(3, 3), stride=(1, 1), padding=(1, 1))\n",
       "      (bn1): BatchNorm2d(8, eps=1e-05, momentum=0.1, affine=True, track_running_stats=True)\n",
       "      (bn2): BatchNorm2d(8, eps=1e-05, momentum=0.1, affine=True, track_running_stats=True)\n",
       "    )\n",
       "    (layer10_conv): Conv2d(8, 1, kernel_size=(3, 3), stride=(1, 1), padding=(1, 1))\n",
       "    (deconv1): deconv2d_bn(\n",
       "      (conv1): ConvTranspose2d(128, 64, kernel_size=(2, 2), stride=(2, 2))\n",
       "      (bn1): BatchNorm2d(64, eps=1e-05, momentum=0.1, affine=True, track_running_stats=True)\n",
       "    )\n",
       "    (deconv2): deconv2d_bn(\n",
       "      (conv1): ConvTranspose2d(64, 32, kernel_size=(2, 2), stride=(2, 2))\n",
       "      (bn1): BatchNorm2d(32, eps=1e-05, momentum=0.1, affine=True, track_running_stats=True)\n",
       "    )\n",
       "    (deconv3): deconv2d_bn(\n",
       "      (conv1): ConvTranspose2d(32, 16, kernel_size=(2, 2), stride=(2, 2))\n",
       "      (bn1): BatchNorm2d(16, eps=1e-05, momentum=0.1, affine=True, track_running_stats=True)\n",
       "    )\n",
       "    (deconv4): deconv2d_bn(\n",
       "      (conv1): ConvTranspose2d(16, 8, kernel_size=(2, 2), stride=(2, 2))\n",
       "      (bn1): BatchNorm2d(8, eps=1e-05, momentum=0.1, affine=True, track_running_stats=True)\n",
       "    )\n",
       "    (sigmoid): Sigmoid()\n",
       "  )\n",
       ")"
      ]
     },
     "execution_count": 13,
     "metadata": {},
     "output_type": "execute_result"
    }
   ],
   "source": [
    "from torch.utils.data import DataLoader, TensorDataset\n",
    "import gc\n",
    "torch.cuda.empty_cache()\n",
    "print(f\"Before forward pass - GPU memory used: {torch.cuda.memory_allocated() / 1e9} GB\")\n",
    "\n",
    "loss_fn = nn.MSELoss()\n",
    "optimizer = optim.AdamW(model.parameters(), lr=0.0001)\n",
    "scheduler = optim.lr_scheduler.StepLR(optimizer, step_size=50, gamma=0.8)\n",
    "\n",
    "goal = goal.view(-1, 784)\n",
    "\n",
    "dataset = TensorDataset(inputs, goal)\n",
    "\n",
    "\n",
    "# 定义DataLoader\n",
    "dataloader = DataLoader(\n",
    "    dataset=dataset, \n",
    "    batch_size=32,\n",
    "    shuffle=True,\n",
    ")  # 这样将保持图像和标签的对应关系\n",
    "    \n",
    "gc.collect()\n",
    "torch.cuda.empty_cache()\n",
    "print(f\"Before forward pass - GPU memory used: {torch.cuda.memory_allocated() / 1e9} GB\")\n",
    "\n",
    "for epoch in range(500):\n",
    "    for i, batch in enumerate(dataloader):\n",
    "        inputs, goal = batch\n",
    "        model_outputs = model(inputs)\n",
    "        loss = loss_fn(model_outputs, goal)\n",
    "        loss.backward()\n",
    "        optimizer.step()\n",
    "        optimizer.zero_grad()\n",
    "    scheduler.step()\n",
    "    torch.cuda.empty_cache()\n",
    "    gc.collect()\n",
    "    print('Epoch: {}, Loss: {}'.format(epoch, loss.item()))\n",
    "model.eval()\n"
   ]
  },
  {
   "cell_type": "code",
   "execution_count": 14,
   "metadata": {},
   "outputs": [
    {
     "name": "stdout",
     "output_type": "stream",
     "text": [
      "Average Test Loss: 0.018553144327597693\n"
     ]
    }
   ],
   "source": [
    "testdataset = TensorDataset(test_data, test_goal)\n",
    "testdataloader = DataLoader(\n",
    "    dataset=testdataset, \n",
    "    batch_size=32,\n",
    "    shuffle=True,\n",
    ") \n",
    "criterion = torch.nn.MSELoss()\n",
    "\n",
    "test_loss = 0.0\n",
    "total_batches = 0\n",
    "with torch.no_grad():  # Disable gradient computation during testing\n",
    "    for i, batch in enumerate(testdataloader):\n",
    "        test_data, test_goal = batch\n",
    "        model_outputs = model(test_data)\n",
    "        loss = criterion(model_outputs, test_goal)\n",
    "        test_loss += loss.item()\n",
    "        total_batches += 1\n",
    "average_test_loss = test_loss / total_batches\n",
    "print('Average Test Loss: {}'.format(average_test_loss))"
   ]
  },
  {
   "cell_type": "code",
   "execution_count": 15,
   "metadata": {},
   "outputs": [
    {
     "data": {
      "image/png": "[encoded data removed]",
      "text/plain": [
       "<Figure size 640x480 with 1 Axes>"
      ]
     },
     "metadata": {},
     "output_type": "display_data"
    },
    {
     "data": {
      "image/png": "[encoded data removed]",
      "text/plain": [
       "<Figure size 640x480 with 1 Axes>"
      ]
     },
     "metadata": {},
     "output_type": "display_data"
    },
    {
     "name": "stdout",
     "output_type": "stream",
     "text": [
      "PSNR: 19.901050567626953, SSIM: 0.8771962871066183\n"
     ]
    },
    {
     "data": {
      "image/png": "[encoded data removed]",
      "text/plain": [
       "<Figure size 640x480 with 1 Axes>"
      ]
     },
     "metadata": {},
     "output_type": "display_data"
    },
    {
     "data": {
      "image/png": "[encoded data removed]",
      "text/plain": [
       "<Figure size 640x480 with 1 Axes>"
      ]
     },
     "metadata": {},
     "output_type": "display_data"
    },
    {
     "name": "stdout",
     "output_type": "stream",
     "text": [
      "PSNR: 16.1214599609375, SSIM: 0.7452766185276422\n"
     ]
    },
    {
     "data": {
      "image/png": "[encoded data removed]",
      "text/plain": [
       "<Figure size 640x480 with 1 Axes>"
      ]
     },
     "metadata": {},
     "output_type": "display_data"
    },
    {
     "data": {
      "image/png": "[encoded data removed]",
      "text/plain": [
       "<Figure size 640x480 with 1 Axes>"
      ]
     },
     "metadata": {},
     "output_type": "display_data"
    },
    {
     "name": "stdout",
     "output_type": "stream",
     "text": [
      "PSNR: 18.131765365600586, SSIM: 0.8393152821369042\n"
     ]
    },
    {
     "data": {
      "image/png": "[encoded data removed]",
      "text/plain": [
       "<Figure size 640x480 with 1 Axes>"
      ]
     },
     "metadata": {},
     "output_type": "display_data"
    },
    {
     "data": {
      "image/png": "[encoded data removed]",
      "text/plain": [
       "<Figure size 640x480 with 1 Axes>"
      ]
     },
     "metadata": {},
     "output_type": "display_data"
    },
    {
     "name": "stdout",
     "output_type": "stream",
     "text": [
      "PSNR: 14.999612808227539, SSIM: 0.6654395434159041\n"
     ]
    },
    {
     "data": {
      "image/png": "[encoded data removed]",
      "text/plain": [
       "<Figure size 640x480 with 1 Axes>"
      ]
     },
     "metadata": {},
     "output_type": "display_data"
    },
    {
     "data": {
      "image/png": "[encoded data removed]",
      "text/plain": [
       "<Figure size 640x480 with 1 Axes>"
      ]
     },
     "metadata": {},
     "output_type": "display_data"
    },
    {
     "name": "stdout",
     "output_type": "stream",
     "text": [
      "PSNR: 16.385730743408203, SSIM: 0.791342383050215\n"
     ]
    },
    {
     "data": {
      "image/png": "[encoded data removed]",
      "text/plain": [
       "<Figure size 640x480 with 1 Axes>"
      ]
     },
     "metadata": {},
     "output_type": "display_data"
    },
    {
     "data": {
      "image/png": "[encoded data removed]",
      "text/plain": [
       "<Figure size 640x480 with 1 Axes>"
      ]
     },
     "metadata": {},
     "output_type": "display_data"
    },
    {
     "name": "stdout",
     "output_type": "stream",
     "text": [
      "PSNR: 13.168478012084961, SSIM: 0.579546510185556\n"
     ]
    },
    {
     "data": {
      "image/png": "[encoded data removed]",
      "text/plain": [
       "<Figure size 640x480 with 1 Axes>"
      ]
     },
     "metadata": {},
     "output_type": "display_data"
    },
    {
     "data": {
      "image/png": "[encoded data removed]",
      "text/plain": [
       "<Figure size 640x480 with 1 Axes>"
      ]
     },
     "metadata": {},
     "output_type": "display_data"
    },
    {
     "name": "stdout",
     "output_type": "stream",
     "text": [
      "PSNR: 17.750614166259766, SSIM: 0.8194945395957826\n"
     ]
    },
    {
     "data": {
      "image/png": "[encoded data removed]",
      "text/plain": [
       "<Figure size 640x480 with 1 Axes>"
      ]
     },
     "metadata": {},
     "output_type": "display_data"
    },
    {
     "data": {
      "image/png": "[encoded data removed]",
      "text/plain": [
       "<Figure size 640x480 with 1 Axes>"
      ]
     },
     "metadata": {},
     "output_type": "display_data"
    },
    {
     "name": "stdout",
     "output_type": "stream",
     "text": [
      "PSNR: 19.97364044189453, SSIM: 0.888215379250302\n"
     ]
    }
   ],
   "source": [
    "import matplotlib.pyplot as plt\n",
    "from skimage.metrics import structural_similarity as compare_ssim\n",
    "\n",
    "with torch.no_grad():\n",
    "    reconstructed_images = model_outputs[:10]\n",
    "    for i, image in enumerate(reconstructed_images):\n",
    "        image = image.view(28, 28).cpu()\n",
    "\n",
    "        original_image = test_goal[i].view(28, 28).cpu()\n",
    "        original_image_np = original_image.detach().cpu().numpy().squeeze()  # Convert to NumPy array\n",
    "        image_np = image.detach().cpu().numpy().squeeze()  # Convert to NumPy array\n",
    "\n",
    "        # Ensure the data type is float\n",
    "        original_image_np = original_image_np.astype(float)\n",
    "        image_np = image_np.astype(float)\n",
    "        \n",
    "        # 计算 PSNR\n",
    "        mse = F.mse_loss(image, original_image)\n",
    "        psnr = 20 * torch.log10(1 / torch.sqrt(mse))\n",
    "        data_range = 1.0  # Adjust this if your images have a different valid range\n",
    "        ssim_index, _ = compare_ssim(original_image_np, image_np, full=True, data_range=data_range)\n",
    "        plt.imshow(image, cmap='gray')\n",
    "        plt.axis('off')\n",
    "        plt.show()\n",
    "        plt.imshow(original_image, cmap='gray')\n",
    "        plt.axis('off')\n",
    "        plt.show()\n",
    "        print(f\"PSNR: {psnr}, SSIM: {ssim_index}\")\n",
    "        "
   ]
  },
  {
   "cell_type": "code",
   "execution_count": 16,
   "metadata": {},
   "outputs": [
    {
     "data": {
      "image/png": "[encoded data removed]",
      "text/plain": [
       "<Figure size 640x480 with 1 Axes>"
      ]
     },
     "metadata": {},
     "output_type": "display_data"
    },
    {
     "data": {
      "image/png": "[encoded data removed]",
      "text/plain": [
       "<Figure size 640x480 with 1 Axes>"
      ]
     },
     "metadata": {},
     "output_type": "display_data"
    },
    {
     "name": "stdout",
     "output_type": "stream",
     "text": [
      "PSNR: 29.425281524658203, SSIM: 0.9732113333304734\n"
     ]
    },
    {
     "data": {
      "image/png": "[encoded data removed]",
      "text/plain": [
       "<Figure size 640x480 with 1 Axes>"
      ]
     },
     "metadata": {},
     "output_type": "display_data"
    },
    {
     "data": {
      "image/png": "[encoded data removed]",
      "text/plain": [
       "<Figure size 640x480 with 1 Axes>"
      ]
     },
     "metadata": {},
     "output_type": "display_data"
    },
    {
     "name": "stdout",
     "output_type": "stream",
     "text": [
      "PSNR: 29.16437530517578, SSIM: 0.9842702553821459\n"
     ]
    },
    {
     "data": {
      "image/png": "[encoded data removed]",
      "text/plain": [
       "<Figure size 640x480 with 1 Axes>"
      ]
     },
     "metadata": {},
     "output_type": "display_data"
    },
    {
     "data": {
      "image/png": "[encoded data removed]",
      "text/plain": [
       "<Figure size 640x480 with 1 Axes>"
      ]
     },
     "metadata": {},
     "output_type": "display_data"
    },
    {
     "name": "stdout",
     "output_type": "stream",
     "text": [
      "PSNR: 28.782470703125, SSIM: 0.9820594764271647\n"
     ]
    },
    {
     "data": {
      "image/png": "[encoded data removed]",
      "text/plain": [
       "<Figure size 640x480 with 1 Axes>"
      ]
     },
     "metadata": {},
     "output_type": "display_data"
    },
    {
     "data": {
      "image/png": "[encoded data removed]",
      "text/plain": [
       "<Figure size 640x480 with 1 Axes>"
      ]
     },
     "metadata": {},
     "output_type": "display_data"
    },
    {
     "name": "stdout",
     "output_type": "stream",
     "text": [
      "PSNR: 29.26251983642578, SSIM: 0.9843075791093988\n"
     ]
    },
    {
     "data": {
      "image/png": "[encoded data removed]",
      "text/plain": [
       "<Figure size 640x480 with 1 Axes>"
      ]
     },
     "metadata": {},
     "output_type": "display_data"
    },
    {
     "data": {
      "image/png": "[encoded data removed]",
      "text/plain": [
       "<Figure size 640x480 with 1 Axes>"
      ]
     },
     "metadata": {},
     "output_type": "display_data"
    },
    {
     "name": "stdout",
     "output_type": "stream",
     "text": [
      "PSNR: 26.132457733154297, SSIM: 0.9717833053883329\n"
     ]
    },
    {
     "data": {
      "image/png": "[encoded data removed]",
      "text/plain": [
       "<Figure size 640x480 with 1 Axes>"
      ]
     },
     "metadata": {},
     "output_type": "display_data"
    },
    {
     "data": {
      "image/png": "[encoded data removed]",
      "text/plain": [
       "<Figure size 640x480 with 1 Axes>"
      ]
     },
     "metadata": {},
     "output_type": "display_data"
    },
    {
     "name": "stdout",
     "output_type": "stream",
     "text": [
      "PSNR: 26.174297332763672, SSIM: 0.9854049736996916\n"
     ]
    },
    {
     "data": {
      "image/png": "[encoded data removed]",
      "text/plain": [
       "<Figure size 640x480 with 1 Axes>"
      ]
     },
     "metadata": {},
     "output_type": "display_data"
    },
    {
     "data": {
      "image/png": "[encoded data removed]",
      "text/plain": [
       "<Figure size 640x480 with 1 Axes>"
      ]
     },
     "metadata": {},
     "output_type": "display_data"
    },
    {
     "name": "stdout",
     "output_type": "stream",
     "text": [
      "PSNR: 32.00653839111328, SSIM: 0.9879307134197253\n"
     ]
    },
    {
     "data": {
      "image/png": "[encoded data removed]",
      "text/plain": [
       "<Figure size 640x480 with 1 Axes>"
      ]
     },
     "metadata": {},
     "output_type": "display_data"
    },
    {
     "data": {
      "image/png": "[encoded data removed]",
      "text/plain": [
       "<Figure size 640x480 with 1 Axes>"
      ]
     },
     "metadata": {},
     "output_type": "display_data"
    },
    {
     "name": "stdout",
     "output_type": "stream",
     "text": [
      "PSNR: 30.19415283203125, SSIM: 0.9859449456576969\n"
     ]
    },
    {
     "data": {
      "image/png": "[encoded data removed]",
      "text/plain": [
       "<Figure size 640x480 with 1 Axes>"
      ]
     },
     "metadata": {},
     "output_type": "display_data"
    },
    {
     "data": {
      "image/png": "[encoded data removed]",
      "text/plain": [
       "<Figure size 640x480 with 1 Axes>"
      ]
     },
     "metadata": {},
     "output_type": "display_data"
    },
    {
     "name": "stdout",
     "output_type": "stream",
     "text": [
      "PSNR: 26.74983787536621, SSIM: 0.978971835560907\n"
     ]
    },
    {
     "data": {
      "image/png": "[encoded data removed]",
      "text/plain": [
       "<Figure size 640x480 with 1 Axes>"
      ]
     },
     "metadata": {},
     "output_type": "display_data"
    },
    {
     "data": {
      "image/png": "[encoded data removed]",
      "text/plain": [
       "<Figure size 640x480 with 1 Axes>"
      ]
     },
     "metadata": {},
     "output_type": "display_data"
    },
    {
     "name": "stdout",
     "output_type": "stream",
     "text": [
      "PSNR: 29.427854537963867, SSIM: 0.9885591123852414\n"
     ]
    }
   ],
   "source": [
    "import matplotlib.pyplot as plt\n",
    "from skimage.metrics import structural_similarity as compare_ssim\n",
    "\n",
    "with torch.no_grad():\n",
    "    reconstructed_images = model(inputs[:10])\n",
    "    for i, image in enumerate(reconstructed_images):\n",
    "        image = image.view(28, 28).cpu()\n",
    "\n",
    "        original_image = goal[i].view(28, 28).cpu()\n",
    "        original_image_np = original_image.detach().cpu().numpy().squeeze()  # Convert to NumPy array\n",
    "        image_np = image.detach().cpu().numpy().squeeze()  # Convert to NumPy array\n",
    "\n",
    "        # Ensure the data type is float\n",
    "        original_image_np = original_image_np.astype(float)\n",
    "        image_np = image_np.astype(float)\n",
    "        \n",
    "        # 计算 PSNR\n",
    "        mse = F.mse_loss(image, original_image)\n",
    "        psnr = 20 * torch.log10(1 / torch.sqrt(mse))\n",
    "        data_range = 1.0  # Adjust this if your images have a different valid range\n",
    "        ssim_index, _ = compare_ssim(original_image_np, image_np, full=True, data_range=data_range)\n",
    "        plt.imshow(image, cmap='gray')\n",
    "        plt.axis('off')\n",
    "        plt.show()\n",
    "        plt.imshow(original_image, cmap='gray')\n",
    "        plt.axis('off')\n",
    "        plt.show()\n",
    "        print(f\"PSNR: {psnr}, SSIM: {ssim_index}\")\n",
    "        "
   ]
  },
  {
   "cell_type": "code",
   "execution_count": 17,
   "metadata": {},
   "outputs": [],
   "source": [
    "import pickle\n",
    "import os\n",
    "\n",
    "# Assuming 'model' is an instance of your PyTorch model\n",
    "# ...\n",
    "\n",
    "# Specify the path to the desktop and the filename\n",
    "desktop_path = os.path.join(os.path.expanduser(\"~\"), \"Desktop\")\n",
    "file_path = os.path.join(desktop_path, 'unbalancedunet_model.pth')\n",
    "\n",
    "# Save the model state dictionary\n",
    "model_state_dict = model.state_dict()\n",
    "torch.save(model_state_dict, file_path)"
   ]
  }
 ],
 "metadata": {
  "kernelspec": {
   "display_name": "pytorch",
   "language": "python",
   "name": "python3"
  },
  "language_info": {
   "codemirror_mode": {
    "name": "ipython",
    "version": 3
   },
   "file_extension": ".py",
   "mimetype": "text/x-python",
   "name": "python",
   "nbconvert_exporter": "python",
   "pygments_lexer": "ipython3",
   "version": "3.11.4"
  }
 },
 "nbformat": 4,
 "nbformat_minor": 2
}
